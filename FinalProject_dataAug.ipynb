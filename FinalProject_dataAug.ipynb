{
 "cells": [
  {
   "cell_type": "markdown",
   "metadata": {
    "id": "v2qAOtTSI_BF"
   },
   "source": [
    "Source material: https://www.kaggle.com/lasaljaywardena/furniture-images-dataset"
   ]
  },
  {
   "cell_type": "markdown",
   "metadata": {
    "id": "vzxBdDOXuCFB"
   },
   "source": [
    "# Import Packages"
   ]
  },
  {
   "cell_type": "code",
   "execution_count": 1,
   "metadata": {
    "id": "22YzQPPdw8Lc"
   },
   "outputs": [],
   "source": [
    "import os\n",
    "import re\n",
    "import pandas as pd\n",
    "import numpy as np\n",
    "import matplotlib.pyplot as plt\n",
    "import matplotlib.image as mpimg\n",
    "import seaborn as sns\n",
    "import cv2\n",
    "from skimage.transform import resize\n",
    "from PIL import Image\n",
    "from skimage import color\n",
    "from skimage import io\n",
    "from skimage import io, transform\n",
    "import fastai\n",
    "from fastai import *\n",
    "from fastai.vision import *\n",
    "from pathlib import Path"
   ]
  },
  {
   "cell_type": "markdown",
   "metadata": {
    "id": "Gz0soN5pqKRN"
   },
   "source": [
    "# Mounting Data"
   ]
  },
  {
   "cell_type": "code",
   "execution_count": 2,
   "metadata": {
    "id": "zyHyLNAmttu1"
   },
   "outputs": [],
   "source": [
    "#from google.colab import drive\n",
    "#drive.mount('/content/drive')"
   ]
  },
  {
   "cell_type": "markdown",
   "metadata": {
    "id": "TlcTSKjKCoXN"
   },
   "source": [
    "# Rename Every Image in Image Folder"
   ]
  },
  {
   "cell_type": "code",
   "execution_count": 3,
   "metadata": {
    "colab": {
     "base_uri": "https://localhost:8080/",
     "height": 240
    },
    "id": "CHktAbKBCrWl",
    "outputId": "fe1645dc-fb14-44e9-b5d7-9a481cf08fcd"
   },
   "outputs": [
    {
     "name": "stdout",
     "output_type": "stream",
     "text": [
      "Image Path -  C:/Users/abe_felipec/finalproject/furniture_images/\n"
     ]
    }
   ],
   "source": [
    "IMG_PATH = \"C:/Users/abe_felipec/finalproject/furniture_images/\"\n",
    "files = os.listdir(IMG_PATH)\n",
    "split_string =[]\n",
    "counter = 0\n",
    "for i in files:\n",
    "\tsplit_string.append(i.split(\".jpg\", 1)[0])\n",
    "for f in files:\n",
    "  os.rename(IMG_PATH + f, IMG_PATH + split_string[counter] + \".jpg\")\n",
    "  counter += 1\n",
    "print(\"Image Path - \", IMG_PATH)"
   ]
  },
  {
   "cell_type": "code",
   "execution_count": 4,
   "metadata": {
    "id": "tpylfR2xmmg2"
   },
   "outputs": [
    {
     "data": {
      "text/plain": [
       "10576"
      ]
     },
     "execution_count": 4,
     "metadata": {},
     "output_type": "execute_result"
    }
   ],
   "source": [
    "len(files)"
   ]
  },
  {
   "cell_type": "markdown",
   "metadata": {
    "id": "dTZIQfuGxGD8"
   },
   "source": [
    "# Read Data Frame"
   ]
  },
  {
   "cell_type": "code",
   "execution_count": 5,
   "metadata": {
    "colab": {
     "base_uri": "https://localhost:8080/",
     "height": 206
    },
    "id": "P_OuL3TYxAB7",
    "outputId": "529f033d-f2ad-4b17-fb4b-f5d16c0b4f0a"
   },
   "outputs": [
    {
     "data": {
      "text/html": [
       "<div>\n",
       "<style scoped>\n",
       "    .dataframe tbody tr th:only-of-type {\n",
       "        vertical-align: middle;\n",
       "    }\n",
       "\n",
       "    .dataframe tbody tr th {\n",
       "        vertical-align: top;\n",
       "    }\n",
       "\n",
       "    .dataframe thead th {\n",
       "        text-align: right;\n",
       "    }\n",
       "</style>\n",
       "<table border=\"1\" class=\"dataframe\">\n",
       "  <thead>\n",
       "    <tr style=\"text-align: right;\">\n",
       "      <th></th>\n",
       "      <th>Label</th>\n",
       "      <th>Furniture_Type</th>\n",
       "      <th>Image_File</th>\n",
       "    </tr>\n",
       "  </thead>\n",
       "  <tbody>\n",
       "    <tr>\n",
       "      <th>0</th>\n",
       "      <td>furniture set</td>\n",
       "      <td>Other</td>\n",
       "      <td>1634011558853.jpg</td>\n",
       "    </tr>\n",
       "    <tr>\n",
       "      <th>1</th>\n",
       "      <td>bed room set</td>\n",
       "      <td>Bed / bedroom item</td>\n",
       "      <td>1634011559093.jpg</td>\n",
       "    </tr>\n",
       "    <tr>\n",
       "      <th>2</th>\n",
       "      <td>6by6 teak box bed with hybrids mattress</td>\n",
       "      <td>Bed / bedroom item</td>\n",
       "      <td>1634011559259.jpg</td>\n",
       "    </tr>\n",
       "    <tr>\n",
       "      <th>3</th>\n",
       "      <td>new spring mattress</td>\n",
       "      <td>Bed / bedroom item</td>\n",
       "      <td>1634011559590.jpg</td>\n",
       "    </tr>\n",
       "    <tr>\n",
       "      <th>4</th>\n",
       "      <td>exclusive 6 by teak box bed with spring mattress</td>\n",
       "      <td>Bed / bedroom item</td>\n",
       "      <td>1634011559751.jpg</td>\n",
       "    </tr>\n",
       "  </tbody>\n",
       "</table>\n",
       "</div>"
      ],
      "text/plain": [
       "                                               Label      Furniture_Type  \\\n",
       "0                                     furniture set                Other   \n",
       "1                                      bed room set   Bed / bedroom item   \n",
       "2           6by6 teak box bed with hybrids mattress   Bed / bedroom item   \n",
       "3                               new spring mattress   Bed / bedroom item   \n",
       "4  exclusive 6 by teak box bed with spring mattress   Bed / bedroom item   \n",
       "\n",
       "          Image_File  \n",
       "0  1634011558853.jpg  \n",
       "1  1634011559093.jpg  \n",
       "2  1634011559259.jpg  \n",
       "3  1634011559590.jpg  \n",
       "4  1634011559751.jpg  "
      ]
     },
     "execution_count": 5,
     "metadata": {},
     "output_type": "execute_result"
    }
   ],
   "source": [
    "df = pd.read_csv(\"C:/Users/abe_felipec/finalproject/furniture_data_img.csv\")\n",
    "df.head()"
   ]
  },
  {
   "cell_type": "code",
   "execution_count": 6,
   "metadata": {
    "id": "jJ1XqfKEH78S"
   },
   "outputs": [
    {
     "data": {
      "text/plain": [
       "(9346, 3)"
      ]
     },
     "execution_count": 6,
     "metadata": {},
     "output_type": "execute_result"
    }
   ],
   "source": [
    "df.shape"
   ]
  },
  {
   "cell_type": "code",
   "execution_count": 7,
   "metadata": {
    "id": "B1C00DP6H84s"
   },
   "outputs": [
    {
     "data": {
      "text/plain": [
       "array(['Other', 'Bed / bedroom item', 'TV / stereo', 'Storage', 'Table / chair', 'Sofa / living room item',\n",
       "       'Antique / art', 'Lighting', 'Textiles / decoration'], dtype=object)"
      ]
     },
     "execution_count": 7,
     "metadata": {},
     "output_type": "execute_result"
    }
   ],
   "source": [
    "df.Furniture_Type.unique()"
   ]
  },
  {
   "cell_type": "markdown",
   "metadata": {
    "id": "wnObDLnpplfP"
   },
   "source": [
    "#Reduce classes to 4"
   ]
  },
  {
   "cell_type": "code",
   "execution_count": 8,
   "metadata": {
    "id": "4HUOdFXAH__J"
   },
   "outputs": [
    {
     "data": {
      "text/plain": [
       "array(['Other', 'Bed / bedroom item', 'Table / chair', 'Sofa / living room item'], dtype=object)"
      ]
     },
     "execution_count": 8,
     "metadata": {},
     "output_type": "execute_result"
    }
   ],
   "source": [
    "df['Furniture_Type']=df['Furniture_Type'].replace({'Storage': 'Other', 'TV / stereo': 'Other', 'Antique / art': 'Other', 'Textiles / decoration': 'Other', 'Lighting': 'Other'})\n",
    "df.Furniture_Type.unique()"
   ]
  },
  {
   "cell_type": "code",
   "execution_count": 9,
   "metadata": {
    "id": "x6qQpuXBIDar"
   },
   "outputs": [
    {
     "data": {
      "text/plain": [
       "2071"
      ]
     },
     "execution_count": 9,
     "metadata": {},
     "output_type": "execute_result"
    }
   ],
   "source": [
    "df['Furniture_Type'].value_counts()['Other']"
   ]
  },
  {
   "cell_type": "code",
   "execution_count": 10,
   "metadata": {
    "id": "_FTWZWGpIGeU"
   },
   "outputs": [
    {
     "data": {
      "text/plain": [
       "3043"
      ]
     },
     "execution_count": 10,
     "metadata": {},
     "output_type": "execute_result"
    }
   ],
   "source": [
    "df['Furniture_Type'].value_counts()['Bed / bedroom item']"
   ]
  },
  {
   "cell_type": "code",
   "execution_count": 11,
   "metadata": {
    "id": "KggTt3FLILqZ"
   },
   "outputs": [
    {
     "data": {
      "text/plain": [
       "2419"
      ]
     },
     "execution_count": 11,
     "metadata": {},
     "output_type": "execute_result"
    }
   ],
   "source": [
    "df['Furniture_Type'].value_counts()['Table / chair']"
   ]
  },
  {
   "cell_type": "code",
   "execution_count": 12,
   "metadata": {
    "id": "0Jj3sImCIOky"
   },
   "outputs": [
    {
     "data": {
      "text/plain": [
       "1813"
      ]
     },
     "execution_count": 12,
     "metadata": {},
     "output_type": "execute_result"
    }
   ],
   "source": [
    "df['Furniture_Type'].value_counts()['Sofa / living room item']"
   ]
  },
  {
   "cell_type": "code",
   "execution_count": 13,
   "metadata": {
    "colab": {
     "base_uri": "https://localhost:8080/",
     "height": 175
    },
    "id": "HSi5EVQMxjts",
    "outputId": "2556f92e-24fa-4b08-9399-87c8cfe8bb08"
   },
   "outputs": [
    {
     "data": {
      "text/html": [
       "<div>\n",
       "<style scoped>\n",
       "    .dataframe tbody tr th:only-of-type {\n",
       "        vertical-align: middle;\n",
       "    }\n",
       "\n",
       "    .dataframe tbody tr th {\n",
       "        vertical-align: top;\n",
       "    }\n",
       "\n",
       "    .dataframe thead th {\n",
       "        text-align: right;\n",
       "    }\n",
       "</style>\n",
       "<table border=\"1\" class=\"dataframe\">\n",
       "  <thead>\n",
       "    <tr style=\"text-align: right;\">\n",
       "      <th></th>\n",
       "      <th>Label</th>\n",
       "      <th>Furniture_Type</th>\n",
       "      <th>Image_File</th>\n",
       "    </tr>\n",
       "  </thead>\n",
       "  <tbody>\n",
       "    <tr>\n",
       "      <th>count</th>\n",
       "      <td>9346</td>\n",
       "      <td>9346</td>\n",
       "      <td>9346</td>\n",
       "    </tr>\n",
       "    <tr>\n",
       "      <th>unique</th>\n",
       "      <td>6793</td>\n",
       "      <td>4</td>\n",
       "      <td>9346</td>\n",
       "    </tr>\n",
       "    <tr>\n",
       "      <th>top</th>\n",
       "      <td>sofa set</td>\n",
       "      <td>Bed / bedroom item</td>\n",
       "      <td>1634020070413.jpg</td>\n",
       "    </tr>\n",
       "    <tr>\n",
       "      <th>freq</th>\n",
       "      <td>337</td>\n",
       "      <td>3043</td>\n",
       "      <td>1</td>\n",
       "    </tr>\n",
       "  </tbody>\n",
       "</table>\n",
       "</div>"
      ],
      "text/plain": [
       "            Label      Furniture_Type         Image_File\n",
       "count        9346                9346               9346\n",
       "unique       6793                   4               9346\n",
       "top     sofa set   Bed / bedroom item  1634020070413.jpg\n",
       "freq          337                3043                  1"
      ]
     },
     "execution_count": 13,
     "metadata": {},
     "output_type": "execute_result"
    }
   ],
   "source": [
    "# check stats of dataset\n",
    "df.describe()"
   ]
  },
  {
   "cell_type": "markdown",
   "metadata": {
    "id": "UR8X78wGIWJD"
   },
   "source": [
    "#Data Augumentation"
   ]
  },
  {
   "cell_type": "code",
   "execution_count": 14,
   "metadata": {
    "id": "TN9qk3khIVBC"
   },
   "outputs": [
    {
     "name": "stdout",
     "output_type": "stream",
     "text": [
      "C:\\Users\\abe_felipec\\finalproject\\furniture_images\n"
     ]
    }
   ],
   "source": [
    "path = Path(IMG_PATH)\n",
    "print(path)\n",
    "tfms = get_transforms()\n",
    "def data_aug_one(ex_img,prox,qnt,type1):\n",
    "  my_type = type1\n",
    "  for lop in range(0,qnt):\n",
    "      image_name = str(prox).zfill(8) +'.jpg'\n",
    "      dest = path/image_name\n",
    "      df.loc[len(df.index)] = [my_type, my_type, image_name] \n",
    "      # print(df.tail(1))\n",
    "      prox = prox + 1\n",
    "      new_img = open_image(ex_img)\n",
    "      new_img_fin = new_img.apply_tfms(tfms[0], new_img, xtra={tfms[1][0].tfm: {\"size\": 224}}, size=224)\n",
    "      new_img_fin.save(dest)"
   ]
  },
  {
   "cell_type": "code",
   "execution_count": 15,
   "metadata": {
    "id": "tRM1NX-oIibf"
   },
   "outputs": [],
   "source": [
    "def my_filter(chosen_class):\n",
    "  df_fil = df[df['Furniture_Type']==chosen_class]\n",
    "  df_fil = df_fil.drop(['Label', 'Furniture_Type'], axis=1)\n",
    "  return df_fil"
   ]
  },
  {
   "cell_type": "markdown",
   "metadata": {
    "id": "hdDhjpiroOa7"
   },
   "source": [
    "#Augment Class \"Other\""
   ]
  },
  {
   "cell_type": "code",
   "execution_count": 16,
   "metadata": {
    "id": "04E1E6Q3nETd"
   },
   "outputs": [],
   "source": [
    "df_filt = my_filter(\"Other\").sample(n=972)"
   ]
  },
  {
   "cell_type": "code",
   "execution_count": 17,
   "metadata": {
    "id": "sh58sNZyIljY"
   },
   "outputs": [
    {
     "name": "stdout",
     "output_type": "stream",
     "text": [
      "ImageList (972 items)\n",
      "Image (3, 107, 142),Image (3, 107, 142),Image (3, 107, 142),Image (3, 107, 142),Image (3, 107, 142)\n",
      "Path: C:\\Users\\abe_felipec\\finalproject\\furniture_images\n"
     ]
    }
   ],
   "source": [
    "il = ImageList.from_df(df_filt, path)\n",
    "print(il)"
   ]
  },
  {
   "cell_type": "code",
   "execution_count": 18,
   "metadata": {
    "id": "OQ-WL9JeIwae"
   },
   "outputs": [
    {
     "name": "stderr",
     "output_type": "stream",
     "text": [
      "C:\\ProgramData\\Anaconda3\\lib\\site-packages\\fastai\\vision\\transform.py:247: UserWarning: torch.solve is deprecated in favor of torch.linalg.solveand will be removed in a future PyTorch release.\n",
      "torch.linalg.solve has its arguments reversed and does not return the LU factorization.\n",
      "To get the LU factorization see torch.lu, which can be used with torch.lu_solve or torch.lu_unpack.\n",
      "X = torch.solve(B, A).solution\n",
      "should be replaced with\n",
      "X = torch.linalg.solve(A, B) (Triggered internally at  C:\\cb\\pytorch_1000000000000\\work\\aten\\src\\ATen\\native\\BatchLinearAlgebra.cpp:859.)\n",
      "  return _solve_func(B,A)[0][:,0]\n"
     ]
    }
   ],
   "source": [
    "prox = 2071\n",
    "qnt = 1\n",
    "for imagen in il.items:\n",
    "    data_aug_one(imagen,prox,qnt,type1='Other')\n",
    "    prox = prox + qnt\n"
   ]
  },
  {
   "cell_type": "markdown",
   "metadata": {
    "id": "QzyG3cEFoU0s"
   },
   "source": [
    "#Augment Class \"Table / chair\""
   ]
  },
  {
   "cell_type": "code",
   "execution_count": 19,
   "metadata": {
    "id": "whNAyk5bnX9P"
   },
   "outputs": [],
   "source": [
    "df_filt2 = my_filter(\"Table / chair\").sample(n=624)"
   ]
  },
  {
   "cell_type": "code",
   "execution_count": 20,
   "metadata": {
    "id": "lSYvHNQCIzsd"
   },
   "outputs": [
    {
     "name": "stdout",
     "output_type": "stream",
     "text": [
      "ImageList (624 items)\n",
      "Image (3, 107, 142),Image (3, 107, 142),Image (3, 107, 142),Image (3, 107, 142),Image (3, 107, 142)\n",
      "Path: C:\\Users\\abe_felipec\\finalproject\\furniture_images\n"
     ]
    }
   ],
   "source": [
    "il2 = ImageList.from_df(df_filt2, path)\n",
    "print(il2)"
   ]
  },
  {
   "cell_type": "code",
   "execution_count": 21,
   "metadata": {
    "id": "LPp-CM0oI259"
   },
   "outputs": [],
   "source": [
    "prox2 = 2419\n",
    "qnt2 = 1\n",
    "for imagen in il2.items:\n",
    "   data_aug_one(imagen,prox2,qnt2,'Table / chair')\n",
    "   prox2 = prox2 + qnt2"
   ]
  },
  {
   "cell_type": "markdown",
   "metadata": {
    "id": "BJ4WCDyeodYA"
   },
   "source": [
    "#Augment Class \"Sofa / living room item\""
   ]
  },
  {
   "cell_type": "code",
   "execution_count": 22,
   "metadata": {
    "id": "O-KtDDpUonB6"
   },
   "outputs": [],
   "source": [
    "df_filt3 = my_filter(\"Sofa / living room item\").sample(n=1230)"
   ]
  },
  {
   "cell_type": "code",
   "execution_count": 23,
   "metadata": {
    "id": "XBRYNZldI5KV"
   },
   "outputs": [
    {
     "name": "stdout",
     "output_type": "stream",
     "text": [
      "ImageList (1230 items)\n",
      "Image (3, 107, 142),Image (3, 107, 142),Image (3, 107, 142),Image (3, 107, 142),Image (3, 107, 142)\n",
      "Path: C:\\Users\\abe_felipec\\finalproject\\furniture_images\n"
     ]
    }
   ],
   "source": [
    "il3 = ImageList.from_df(df_filt3, path)\n",
    "print(il3)"
   ]
  },
  {
   "cell_type": "code",
   "execution_count": 24,
   "metadata": {
    "id": "0qzrCoSlI-hS"
   },
   "outputs": [],
   "source": [
    "prox3 = 1813\n",
    "qnt3 = 1\n",
    "for imagen in il3.items:\n",
    "   data_aug_one(imagen,prox3,qnt3,'Sofa / living room item')\n",
    "   prox3 = prox3 + qnt3\n"
   ]
  },
  {
   "cell_type": "markdown",
   "metadata": {
    "id": "N21YmP1qx0bT"
   },
   "source": [
    "# Data Visualization"
   ]
  },
  {
   "cell_type": "code",
   "execution_count": 25,
   "metadata": {
    "colab": {
     "base_uri": "https://localhost:8080/",
     "height": 398
    },
    "id": "KFeq8HBrxsWr",
    "outputId": "812641c4-b339-4241-eb91-7f1eb507c94d"
   },
   "outputs": [
    {
     "data": {
      "image/png": "[encoded data removed]",
      "text/plain": [
       "<Figure size 432x288 with 1 Axes>"
      ]
     },
     "metadata": {
      "needs_background": "light"
     },
     "output_type": "display_data"
    }
   ],
   "source": [
    "# Most available furniture types\n",
    "\n",
    "top_fur_type = df[[\"Image_File\", \"Furniture_Type\"]].groupby(\"Furniture_Type\").agg(['count'])['Image_File']['count'].sort_values(ascending=False)[:10]\n",
    "fig = sns.barplot( x = top_fur_type.index, y = top_fur_type.values)\n",
    "fig.set_xticklabels(labels=top_fur_type.index , rotation=90)\n",
    "fig.set_ylabel(\"Number of Images in the Dataset\")\n",
    "fig.set_xlabel(\"Furniture Type\")\n",
    "fig.set_title(\"Most availble Furniture types\");"
   ]
  },
  {
   "cell_type": "code",
   "execution_count": 26,
   "metadata": {
    "colab": {
     "base_uri": "https://localhost:8080/",
     "height": 248
    },
    "id": "vdM-FRBSxy2j",
    "outputId": "47480ad4-ae64-418a-8640-80fdd53cbed2"
   },
   "outputs": [
    {
     "data": {
      "image/png": "[encoded data removed]",
      "text/plain": [
       "<Figure size 432x288 with 1 Axes>"
      ]
     },
     "metadata": {},
     "output_type": "display_data"
    }
   ],
   "source": [
    "# Disrtribution of Classes among the Dataset\n",
    "colors = sns.color_palette('pastel')[0:5]\n",
    "plt.pie(top_fur_type, labels = top_fur_type.index, colors = colors, autopct='%.0f%%')\n",
    "plt.show()"
   ]
  },
  {
   "cell_type": "markdown",
   "metadata": {
    "id": "ZycmEnpmz-2h"
   },
   "source": [
    "# Data Loader"
   ]
  },
  {
   "cell_type": "markdown",
   "metadata": {
    "id": "E12st2jxQUwh"
   },
   "source": [
    "## Pre process Data Labels"
   ]
  },
  {
   "cell_type": "markdown",
   "metadata": {
    "id": "t0ZHaaQcRrIy"
   },
   "source": [
    "Labels are currently strings, we will need to convert them to int indexes (1, 2, 3, ...) so pytorch accepts them"
   ]
  },
  {
   "cell_type": "code",
   "execution_count": 27,
   "metadata": {
    "colab": {
     "base_uri": "https://localhost:8080/"
    },
    "id": "JE_RBFIm0FwB",
    "outputId": "6428d224-533b-4612-9058-8e2cd045f182"
   },
   "outputs": [
    {
     "name": "stdout",
     "output_type": "stream",
     "text": [
      "classes:  ['Bed / bedroom item', 'Other', 'Sofa / living room item', 'Table / chair']\n",
      "number of classes:  4\n"
     ]
    }
   ],
   "source": [
    "classes = df['Furniture_Type'].unique().tolist()\n",
    "classes.sort()\n",
    "print(\"classes: \", classes)\n",
    "print(\"number of classes: \", len(classes))"
   ]
  },
  {
   "cell_type": "code",
   "execution_count": 28,
   "metadata": {
    "id": "2srtTbAvQXHe"
   },
   "outputs": [],
   "source": [
    "from sklearn import preprocessing\n",
    "import torch\n",
    "\n",
    "le = preprocessing.LabelEncoder()\n",
    "df['Furniture_Type'] = le.fit_transform(df['Furniture_Type'])\n",
    "# targets: array([0, 1, 2, 3])\n",
    "\n",
    "# To transform back\n",
    "# le.inverse_transform(df['Furniture_Type'])"
   ]
  },
  {
   "cell_type": "code",
   "execution_count": 29,
   "metadata": {
    "colab": {
     "base_uri": "https://localhost:8080/",
     "height": 424
    },
    "id": "A6KxqHXJTo_f",
    "outputId": "f620cf22-d372-4036-9304-0a7cf8f812f8",
    "scrolled": true
   },
   "outputs": [
    {
     "data": {
      "text/html": [
       "<div>\n",
       "<style scoped>\n",
       "    .dataframe tbody tr th:only-of-type {\n",
       "        vertical-align: middle;\n",
       "    }\n",
       "\n",
       "    .dataframe tbody tr th {\n",
       "        vertical-align: top;\n",
       "    }\n",
       "\n",
       "    .dataframe thead th {\n",
       "        text-align: right;\n",
       "    }\n",
       "</style>\n",
       "<table border=\"1\" class=\"dataframe\">\n",
       "  <thead>\n",
       "    <tr style=\"text-align: right;\">\n",
       "      <th></th>\n",
       "      <th>Label</th>\n",
       "      <th>Furniture_Type</th>\n",
       "      <th>Image_File</th>\n",
       "    </tr>\n",
       "  </thead>\n",
       "  <tbody>\n",
       "    <tr>\n",
       "      <th>0</th>\n",
       "      <td>furniture set</td>\n",
       "      <td>1</td>\n",
       "      <td>1634011558853.jpg</td>\n",
       "    </tr>\n",
       "    <tr>\n",
       "      <th>1</th>\n",
       "      <td>bed room set</td>\n",
       "      <td>0</td>\n",
       "      <td>1634011559093.jpg</td>\n",
       "    </tr>\n",
       "    <tr>\n",
       "      <th>2</th>\n",
       "      <td>6by6 teak box bed with hybrids mattress</td>\n",
       "      <td>0</td>\n",
       "      <td>1634011559259.jpg</td>\n",
       "    </tr>\n",
       "    <tr>\n",
       "      <th>3</th>\n",
       "      <td>new spring mattress</td>\n",
       "      <td>0</td>\n",
       "      <td>1634011559590.jpg</td>\n",
       "    </tr>\n",
       "    <tr>\n",
       "      <th>4</th>\n",
       "      <td>exclusive 6 by teak box bed with spring mattress</td>\n",
       "      <td>0</td>\n",
       "      <td>1634011559751.jpg</td>\n",
       "    </tr>\n",
       "    <tr>\n",
       "      <th>...</th>\n",
       "      <td>...</td>\n",
       "      <td>...</td>\n",
       "      <td>...</td>\n",
       "    </tr>\n",
       "    <tr>\n",
       "      <th>12167</th>\n",
       "      <td>Sofa / living room item</td>\n",
       "      <td>2</td>\n",
       "      <td>00003038.jpg</td>\n",
       "    </tr>\n",
       "    <tr>\n",
       "      <th>12168</th>\n",
       "      <td>Sofa / living room item</td>\n",
       "      <td>2</td>\n",
       "      <td>00003039.jpg</td>\n",
       "    </tr>\n",
       "    <tr>\n",
       "      <th>12169</th>\n",
       "      <td>Sofa / living room item</td>\n",
       "      <td>2</td>\n",
       "      <td>00003040.jpg</td>\n",
       "    </tr>\n",
       "    <tr>\n",
       "      <th>12170</th>\n",
       "      <td>Sofa / living room item</td>\n",
       "      <td>2</td>\n",
       "      <td>00003041.jpg</td>\n",
       "    </tr>\n",
       "    <tr>\n",
       "      <th>12171</th>\n",
       "      <td>Sofa / living room item</td>\n",
       "      <td>2</td>\n",
       "      <td>00003042.jpg</td>\n",
       "    </tr>\n",
       "  </tbody>\n",
       "</table>\n",
       "<p>12172 rows × 3 columns</p>\n",
       "</div>"
      ],
      "text/plain": [
       "                                                   Label  Furniture_Type  \\\n",
       "0                                         furniture set                1   \n",
       "1                                          bed room set                0   \n",
       "2               6by6 teak box bed with hybrids mattress                0   \n",
       "3                                   new spring mattress                0   \n",
       "4      exclusive 6 by teak box bed with spring mattress                0   \n",
       "...                                                  ...             ...   \n",
       "12167                            Sofa / living room item               2   \n",
       "12168                            Sofa / living room item               2   \n",
       "12169                            Sofa / living room item               2   \n",
       "12170                            Sofa / living room item               2   \n",
       "12171                            Sofa / living room item               2   \n",
       "\n",
       "              Image_File  \n",
       "0      1634011558853.jpg  \n",
       "1      1634011559093.jpg  \n",
       "2      1634011559259.jpg  \n",
       "3      1634011559590.jpg  \n",
       "4      1634011559751.jpg  \n",
       "...                  ...  \n",
       "12167       00003038.jpg  \n",
       "12168       00003039.jpg  \n",
       "12169       00003040.jpg  \n",
       "12170       00003041.jpg  \n",
       "12171       00003042.jpg  \n",
       "\n",
       "[12172 rows x 3 columns]"
      ]
     },
     "execution_count": 29,
     "metadata": {},
     "output_type": "execute_result"
    }
   ],
   "source": [
    "df"
   ]
  },
  {
   "cell_type": "markdown",
   "metadata": {
    "id": "VXbEBFh8mp6F"
   },
   "source": [
    "## Split Data into testing and training"
   ]
  },
  {
   "cell_type": "code",
   "execution_count": 30,
   "metadata": {
    "colab": {
     "base_uri": "https://localhost:8080/"
    },
    "id": "fC3TJtx6mvvn",
    "outputId": "110f83eb-10bd-4d8d-ff76-90ee9899fd90"
   },
   "outputs": [
    {
     "data": {
      "text/plain": [
       "((9129, 3), (3043, 3))"
      ]
     },
     "execution_count": 30,
     "metadata": {},
     "output_type": "execute_result"
    }
   ],
   "source": [
    "from sklearn.model_selection import train_test_split\n",
    "furniture_train, furniture_test = train_test_split(df, test_size =0.25)\n",
    "furniture_train.shape, furniture_test.shape"
   ]
  },
  {
   "cell_type": "markdown",
   "metadata": {
    "id": "DfC757jSpwUA"
   },
   "source": [
    "## Custom DataSet"
   ]
  },
  {
   "cell_type": "code",
   "execution_count": 31,
   "metadata": {
    "id": "pxWrwJFtoMek"
   },
   "outputs": [],
   "source": [
    "import torch\n",
    "import torchvision\n",
    "import torchvision.transforms as transforms\n",
    "from torchvision import datasets, transforms, models \n",
    "from torchvision.transforms import ToTensor\n",
    "from torch.utils.data import Dataset, DataLoader"
   ]
  },
  {
   "cell_type": "code",
   "execution_count": 32,
   "metadata": {
    "id": "AXdLwjDuLTHL"
   },
   "outputs": [],
   "source": [
    "root_dir = IMG_PATH"
   ]
  },
  {
   "cell_type": "markdown",
   "metadata": {
    "id": "Ud6gbLyv0Z8G"
   },
   "source": [
    "Map-Style DataSet"
   ]
  },
  {
   "cell_type": "code",
   "execution_count": 33,
   "metadata": {
    "id": "uEKNBVB-ogrV"
   },
   "outputs": [],
   "source": [
    "class FurnitureDataset(Dataset):\n",
    "    \"\"\"Furniture dataset.\"\"\"\n",
    "\n",
    "    def __init__(self, data_frame, root_dir, transform=None):\n",
    "        \"\"\"\n",
    "        Args:\n",
    "            data_frame (pandadataframe): dataframe with data\n",
    "            root_dir (string): Directory with all the images.\n",
    "            transform (callable, optional): Optional transform to be applied\n",
    "                on a sample.\n",
    "        \"\"\"\n",
    "        self.furniture_csv = data_frame\n",
    "        self.root_dir = root_dir\n",
    "        self.transform = transform\n",
    "\n",
    "    def __len__(self):\n",
    "        return len(self.furniture_csv)\n",
    "\n",
    "    def __getitem__(self, idx):\n",
    "        if torch.is_tensor(idx):\n",
    "            idx = idx.tolist()\n",
    "\n",
    "        img_name = self.root_dir + self.furniture_csv.iloc[idx, 2]\n",
    "        image = io.imread(img_name)\n",
    "        label = self.furniture_csv.iloc[idx, 1]\n",
    "        sample = {'image': image, 'label': label}\n",
    "\n",
    "        if self.transform:\n",
    "            sample = self.transform(sample)\n",
    "\n",
    "        return sample"
   ]
  },
  {
   "cell_type": "code",
   "execution_count": 34,
   "metadata": {
    "id": "Do22aKToMINb"
   },
   "outputs": [],
   "source": [
    "csv_file = \"/content/drive/MyDrive/Colab Notebooks/CS573_MidTermProject/furniture_data_img.csv\"\n",
    "furniture_dataset = FurnitureDataset(df, root_dir)"
   ]
  },
  {
   "cell_type": "markdown",
   "metadata": {
    "id": "Z5j-TxywLy1B"
   },
   "source": [
    "Testing DataSet"
   ]
  },
  {
   "cell_type": "code",
   "execution_count": 35,
   "metadata": {
    "colab": {
     "base_uri": "https://localhost:8080/",
     "height": 243
    },
    "id": "XuW57JEdFvB4",
    "outputId": "64ae2741-a229-48ef-9e28-40704c29e47f"
   },
   "outputs": [
    {
     "name": "stdout",
     "output_type": "stream",
     "text": [
      "0 (120, 160, 3) 1\n",
      "<class 'numpy.ndarray'> <class 'numpy.int32'>\n",
      "1 (120, 160, 3) 0\n",
      "<class 'numpy.ndarray'> <class 'numpy.int32'>\n",
      "2 (107, 142, 3) 0\n",
      "<class 'numpy.ndarray'> <class 'numpy.int32'>\n",
      "3 (107, 142, 3) 0\n",
      "<class 'numpy.ndarray'> <class 'numpy.int32'>\n"
     ]
    },
    {
     "data": {
      "image/png": "[encoded data removed]",
      "text/plain": [
       "<Figure size 432x288 with 4 Axes>"
      ]
     },
     "metadata": {
      "needs_background": "light"
     },
     "output_type": "display_data"
    }
   ],
   "source": [
    "fig = plt.figure()\n",
    "from skimage import io, transform\n",
    "for i in range(len(furniture_dataset)):\n",
    "    sample = furniture_dataset[i]\n",
    "\n",
    "    print(i, sample['image'].shape, sample['label'])\n",
    "    print(type(sample['image']), type(sample['label']))\n",
    "    ax = plt.subplot(1, 4, i + 1)\n",
    "    plt.tight_layout()\n",
    "    ax.set_title('Sample #{}'.format(i))\n",
    "    ax.axis('off')\n",
    "    plt.imshow(next(iter(sample.items()))[1])\n",
    "\n",
    "    if i == 3:\n",
    "        plt.show()\n",
    "        break"
   ]
  },
  {
   "cell_type": "markdown",
   "metadata": {
    "id": "McngO0FpM97U"
   },
   "source": [
    "## Data Regularization"
   ]
  },
  {
   "cell_type": "code",
   "execution_count": 36,
   "metadata": {
    "id": "og_6wtl6O4sl"
   },
   "outputs": [],
   "source": [
    "class Rescale(object):\n",
    "    \"\"\"Rescale the image in a sample to a given size.\n",
    "\n",
    "    Args:\n",
    "        output_size (tuple or int): Desired output size. If tuple, output is\n",
    "            matched to output_size. If int, smaller of image edges is matched\n",
    "            to output_size keeping aspect ratio the same.\n",
    "    \"\"\"\n",
    "\n",
    "    def __init__(self, output_size):\n",
    "        assert isinstance(output_size, (int, tuple))\n",
    "        self.output_size = output_size\n",
    "\n",
    "    def __call__(self, sample):\n",
    "        image, label = sample['image'], sample['label']\n",
    "\n",
    "        h, w = image.shape[:2]\n",
    "        if isinstance(self.output_size, int):\n",
    "            #if h > w:\n",
    "                new_h, new_w = self.output_size * h / w, self.output_size\n",
    "            #else:\n",
    "            #    new_h, new_w = self.output_size, self.output_size * w / h\n",
    "        else:\n",
    "            new_h, new_w = self.output_size\n",
    "\n",
    "        new_h, new_w = int(new_h), int(new_w)\n",
    "        img = transform.resize(image, (256, 256))\n",
    "\n",
    "        return {'image': img, 'label': label}"
   ]
  },
  {
   "cell_type": "code",
   "execution_count": 37,
   "metadata": {
    "id": "UtRhNCuVPMkV"
   },
   "outputs": [],
   "source": [
    "class ToTensor(object):\n",
    "    \"\"\"Convert ndarrays in sample to Tensors.\"\"\"\n",
    "\n",
    "    def __call__(self, sample):\n",
    "        image, label = sample['image'], sample['label']\n",
    "\n",
    "        # swap color axis because\n",
    "        # numpy image: H x W x C\n",
    "        # torch image: C x H x W\n",
    "        image = image.transpose((2, 0, 1))\n",
    "        return {'image': torch.from_numpy(image),\n",
    "                'label': torch.as_tensor(label)}"
   ]
  },
  {
   "cell_type": "markdown",
   "metadata": {
    "id": "FmJuwNUD1U6d"
   },
   "source": [
    "## Data Loader"
   ]
  },
  {
   "cell_type": "markdown",
   "metadata": {
    "id": "uxKNTFKt4O65"
   },
   "source": [
    "Re-declaring Dataset"
   ]
  },
  {
   "cell_type": "code",
   "execution_count": 38,
   "metadata": {
    "id": "Pq9ZrHKI4RvI"
   },
   "outputs": [],
   "source": [
    "data_transform = transforms.Compose([Rescale(256), \n",
    "                                     ToTensor()])\n",
    "train_furniture_dataset = FurnitureDataset(furniture_train, root_dir, data_transform)\n",
    "test_furniture_dataset = FurnitureDataset(furniture_test, root_dir, data_transform)"
   ]
  },
  {
   "cell_type": "code",
   "execution_count": 39,
   "metadata": {
    "colab": {
     "base_uri": "https://localhost:8080/",
     "height": 242
    },
    "id": "oF3dZTm07EHQ",
    "outputId": "3310ed86-ba45-4d32-91a9-b35ebed8761c"
   },
   "outputs": [
    {
     "name": "stdout",
     "output_type": "stream",
     "text": [
      "0 torch.Size([3, 256, 256]) tensor(0, dtype=torch.int32)\n",
      "<class 'torch.Tensor'> <class 'torch.Tensor'>\n",
      "1 torch.Size([3, 256, 256]) tensor(3, dtype=torch.int32)\n",
      "<class 'torch.Tensor'> <class 'torch.Tensor'>\n",
      "2 torch.Size([3, 256, 256]) tensor(1, dtype=torch.int32)\n",
      "<class 'torch.Tensor'> <class 'torch.Tensor'>\n",
      "3 torch.Size([3, 256, 256]) tensor(2, dtype=torch.int32)\n",
      "<class 'torch.Tensor'> <class 'torch.Tensor'>\n"
     ]
    },
    {
     "data": {
      "image/png": "[encoded data removed]",
      "text/plain": [
       "<Figure size 432x288 with 4 Axes>"
      ]
     },
     "metadata": {
      "needs_background": "light"
     },
     "output_type": "display_data"
    }
   ],
   "source": [
    "fig = plt.figure()\n",
    "\n",
    "for i in range(len(train_furniture_dataset)):\n",
    "    sample = train_furniture_dataset[i]\n",
    "    print(i, sample['image'].shape, sample['label'])\n",
    "    print(type(sample['image']), type(sample['label']))\n",
    "    ax = plt.subplot(1, 4, i + 1)\n",
    "    plt.tight_layout()\n",
    "    ax.set_title('Sample #{}'.format(i))\n",
    "    ax.axis('off')\n",
    "    image_to_show = next(iter(sample.items()))[1]\n",
    "    plt.imshow(image_to_show.permute(1,2,0))\n",
    "\n",
    "    if i == 3:\n",
    "        plt.show()\n",
    "        break"
   ]
  },
  {
   "cell_type": "code",
   "execution_count": 47,
   "metadata": {
    "id": "VhIyOJj2NArz"
   },
   "outputs": [],
   "source": [
    "batch_size = 100 # If running on colab make sure number is less than 10\n",
    "# furniture_dataset = FurnitureDataset(csv_file, root_dir)\n",
    "trainloader = torch.utils.data.DataLoader(train_furniture_dataset, batch_size=batch_size, shuffle=True)\n",
    "testloader = torch.utils.data.DataLoader(test_furniture_dataset, batch_size=batch_size, shuffle=True)"
   ]
  },
  {
   "cell_type": "markdown",
   "metadata": {
    "id": "6q0qmUTK1lie"
   },
   "source": [
    "Iterate though the DataLoader"
   ]
  },
  {
   "cell_type": "code",
   "execution_count": 48,
   "metadata": {
    "colab": {
     "base_uri": "https://localhost:8080/",
     "height": 338
    },
    "id": "MyM_qnRX1SxR",
    "outputId": "006e5393-ae10-40e4-aac7-05f671d9d471"
   },
   "outputs": [
    {
     "name": "stdout",
     "output_type": "stream",
     "text": [
      "tensor([0, 0, 2, 0, 3, 2, 3, 2, 2, 2, 3, 2, 3, 0, 3, 1, 3, 2, 1, 3, 0, 2, 3, 3,\n",
      "        1, 1, 1, 2, 2, 2, 0, 1, 2, 0, 2, 3, 1, 2, 0, 3, 0, 0, 0, 1, 1, 1, 3, 3,\n",
      "        1, 0, 3, 3, 1, 2, 0, 0, 3, 1, 0, 3, 2, 0, 2, 2, 2, 0, 0, 2, 1, 0, 0, 1,\n",
      "        2, 0, 3, 1, 2, 3, 3, 2, 2, 3, 2, 1, 2, 3, 3, 3, 0, 2, 1, 1, 2, 3, 1, 1,\n",
      "        2, 0, 0, 2], dtype=torch.int32)\n",
      "Feature batch shape: torch.Size([100, 3, 256, 256])\n",
      "Labels batch shape: torch.Size([100])\n"
     ]
    },
    {
     "data": {
      "image/png": "[encoded data removed]",
      "text/plain": [
       "<Figure size 432x288 with 1 Axes>"
      ]
     },
     "metadata": {
      "needs_background": "light"
     },
     "output_type": "display_data"
    },
    {
     "name": "stdout",
     "output_type": "stream",
     "text": [
      "Label: 0\n"
     ]
    }
   ],
   "source": [
    "first_data = next(iter(testloader))\n",
    "train_image = first_data[\"image\"]\n",
    "train_labels = first_data[\"label\"]\n",
    "print(train_labels)\n",
    "print(f\"Feature batch shape: {train_image.size()}\")\n",
    "print(f\"Labels batch shape: {train_labels.size()}\")\n",
    "img = train_image[0].squeeze()\n",
    "label = train_labels[0]\n",
    "plt.imshow(img.permute(1,2,0), cmap=\"gray\")\n",
    "plt.show()\n",
    "print(f\"Label: {label}\")"
   ]
  },
  {
   "cell_type": "markdown",
   "metadata": {
    "id": "VkLryVziqKRV"
   },
   "source": [
    "# Summary of Variables"
   ]
  },
  {
   "cell_type": "markdown",
   "metadata": {
    "id": "_YZj6udRqKRW"
   },
   "source": [
    "trainloader - > DataLoader with training images\n",
    "testloader - > Data Loader with Test images\n",
    "IMG_PATH/root_dir - > Directory with images\n"
   ]
  },
  {
   "cell_type": "markdown",
   "metadata": {
    "id": "r0H4cVWmiRfq"
   },
   "source": [
    "# Image Classifier Model"
   ]
  },
  {
   "cell_type": "markdown",
   "metadata": {
    "id": "MzdaDlndkhCp"
   },
   "source": [
    "## Define a CNN model"
   ]
  },
  {
   "cell_type": "code",
   "execution_count": 49,
   "metadata": {
    "id": "5EdD9PySkiXH"
   },
   "outputs": [],
   "source": [
    "import torch.nn as nn\n",
    "import torch.nn.functional as F"
   ]
  },
  {
   "cell_type": "code",
   "execution_count": 50,
   "metadata": {
    "colab": {
     "base_uri": "https://localhost:8080/"
    },
    "id": "XUWS0OXckkxA",
    "outputId": "7db0beaa-57bf-4548-b1df-c4202762f41d"
   },
   "outputs": [
    {
     "name": "stdout",
     "output_type": "stream",
     "text": [
      "cuda\n",
      "ResNet(\n",
      "  (conv1): Conv2d(3, 64, kernel_size=(7, 7), stride=(2, 2), padding=(3, 3), bias=False)\n",
      "  (bn1): BatchNorm2d(64, eps=1e-05, momentum=0.1, affine=True, track_running_stats=True)\n",
      "  (relu): ReLU(inplace=True)\n",
      "  (maxpool): MaxPool2d(kernel_size=3, stride=2, padding=1, dilation=1, ceil_mode=False)\n",
      "  (layer1): Sequential(\n",
      "    (0): Bottleneck(\n",
      "      (conv1): Conv2d(64, 64, kernel_size=(1, 1), stride=(1, 1), bias=False)\n",
      "      (bn1): BatchNorm2d(64, eps=1e-05, momentum=0.1, affine=True, track_running_stats=True)\n",
      "      (conv2): Conv2d(64, 64, kernel_size=(3, 3), stride=(1, 1), padding=(1, 1), bias=False)\n",
      "      (bn2): BatchNorm2d(64, eps=1e-05, momentum=0.1, affine=True, track_running_stats=True)\n",
      "      (conv3): Conv2d(64, 256, kernel_size=(1, 1), stride=(1, 1), bias=False)\n",
      "      (bn3): BatchNorm2d(256, eps=1e-05, momentum=0.1, affine=True, track_running_stats=True)\n",
      "      (relu): ReLU(inplace=True)\n",
      "      (downsample): Sequential(\n",
      "        (0): Conv2d(64, 256, kernel_size=(1, 1), stride=(1, 1), bias=False)\n",
      "        (1): BatchNorm2d(256, eps=1e-05, momentum=0.1, affine=True, track_running_stats=True)\n",
      "      )\n",
      "    )\n",
      "    (1): Bottleneck(\n",
      "      (conv1): Conv2d(256, 64, kernel_size=(1, 1), stride=(1, 1), bias=False)\n",
      "      (bn1): BatchNorm2d(64, eps=1e-05, momentum=0.1, affine=True, track_running_stats=True)\n",
      "      (conv2): Conv2d(64, 64, kernel_size=(3, 3), stride=(1, 1), padding=(1, 1), bias=False)\n",
      "      (bn2): BatchNorm2d(64, eps=1e-05, momentum=0.1, affine=True, track_running_stats=True)\n",
      "      (conv3): Conv2d(64, 256, kernel_size=(1, 1), stride=(1, 1), bias=False)\n",
      "      (bn3): BatchNorm2d(256, eps=1e-05, momentum=0.1, affine=True, track_running_stats=True)\n",
      "      (relu): ReLU(inplace=True)\n",
      "    )\n",
      "    (2): Bottleneck(\n",
      "      (conv1): Conv2d(256, 64, kernel_size=(1, 1), stride=(1, 1), bias=False)\n",
      "      (bn1): BatchNorm2d(64, eps=1e-05, momentum=0.1, affine=True, track_running_stats=True)\n",
      "      (conv2): Conv2d(64, 64, kernel_size=(3, 3), stride=(1, 1), padding=(1, 1), bias=False)\n",
      "      (bn2): BatchNorm2d(64, eps=1e-05, momentum=0.1, affine=True, track_running_stats=True)\n",
      "      (conv3): Conv2d(64, 256, kernel_size=(1, 1), stride=(1, 1), bias=False)\n",
      "      (bn3): BatchNorm2d(256, eps=1e-05, momentum=0.1, affine=True, track_running_stats=True)\n",
      "      (relu): ReLU(inplace=True)\n",
      "    )\n",
      "  )\n",
      "  (layer2): Sequential(\n",
      "    (0): Bottleneck(\n",
      "      (conv1): Conv2d(256, 128, kernel_size=(1, 1), stride=(1, 1), bias=False)\n",
      "      (bn1): BatchNorm2d(128, eps=1e-05, momentum=0.1, affine=True, track_running_stats=True)\n",
      "      (conv2): Conv2d(128, 128, kernel_size=(3, 3), stride=(2, 2), padding=(1, 1), bias=False)\n",
      "      (bn2): BatchNorm2d(128, eps=1e-05, momentum=0.1, affine=True, track_running_stats=True)\n",
      "      (conv3): Conv2d(128, 512, kernel_size=(1, 1), stride=(1, 1), bias=False)\n",
      "      (bn3): BatchNorm2d(512, eps=1e-05, momentum=0.1, affine=True, track_running_stats=True)\n",
      "      (relu): ReLU(inplace=True)\n",
      "      (downsample): Sequential(\n",
      "        (0): Conv2d(256, 512, kernel_size=(1, 1), stride=(2, 2), bias=False)\n",
      "        (1): BatchNorm2d(512, eps=1e-05, momentum=0.1, affine=True, track_running_stats=True)\n",
      "      )\n",
      "    )\n",
      "    (1): Bottleneck(\n",
      "      (conv1): Conv2d(512, 128, kernel_size=(1, 1), stride=(1, 1), bias=False)\n",
      "      (bn1): BatchNorm2d(128, eps=1e-05, momentum=0.1, affine=True, track_running_stats=True)\n",
      "      (conv2): Conv2d(128, 128, kernel_size=(3, 3), stride=(1, 1), padding=(1, 1), bias=False)\n",
      "      (bn2): BatchNorm2d(128, eps=1e-05, momentum=0.1, affine=True, track_running_stats=True)\n",
      "      (conv3): Conv2d(128, 512, kernel_size=(1, 1), stride=(1, 1), bias=False)\n",
      "      (bn3): BatchNorm2d(512, eps=1e-05, momentum=0.1, affine=True, track_running_stats=True)\n",
      "      (relu): ReLU(inplace=True)\n",
      "    )\n",
      "    (2): Bottleneck(\n",
      "      (conv1): Conv2d(512, 128, kernel_size=(1, 1), stride=(1, 1), bias=False)\n",
      "      (bn1): BatchNorm2d(128, eps=1e-05, momentum=0.1, affine=True, track_running_stats=True)\n",
      "      (conv2): Conv2d(128, 128, kernel_size=(3, 3), stride=(1, 1), padding=(1, 1), bias=False)\n",
      "      (bn2): BatchNorm2d(128, eps=1e-05, momentum=0.1, affine=True, track_running_stats=True)\n",
      "      (conv3): Conv2d(128, 512, kernel_size=(1, 1), stride=(1, 1), bias=False)\n",
      "      (bn3): BatchNorm2d(512, eps=1e-05, momentum=0.1, affine=True, track_running_stats=True)\n",
      "      (relu): ReLU(inplace=True)\n",
      "    )\n",
      "    (3): Bottleneck(\n",
      "      (conv1): Conv2d(512, 128, kernel_size=(1, 1), stride=(1, 1), bias=False)\n",
      "      (bn1): BatchNorm2d(128, eps=1e-05, momentum=0.1, affine=True, track_running_stats=True)\n",
      "      (conv2): Conv2d(128, 128, kernel_size=(3, 3), stride=(1, 1), padding=(1, 1), bias=False)\n",
      "      (bn2): BatchNorm2d(128, eps=1e-05, momentum=0.1, affine=True, track_running_stats=True)\n",
      "      (conv3): Conv2d(128, 512, kernel_size=(1, 1), stride=(1, 1), bias=False)\n",
      "      (bn3): BatchNorm2d(512, eps=1e-05, momentum=0.1, affine=True, track_running_stats=True)\n",
      "      (relu): ReLU(inplace=True)\n",
      "    )\n",
      "  )\n",
      "  (layer3): Sequential(\n",
      "    (0): Bottleneck(\n",
      "      (conv1): Conv2d(512, 256, kernel_size=(1, 1), stride=(1, 1), bias=False)\n",
      "      (bn1): BatchNorm2d(256, eps=1e-05, momentum=0.1, affine=True, track_running_stats=True)\n",
      "      (conv2): Conv2d(256, 256, kernel_size=(3, 3), stride=(2, 2), padding=(1, 1), bias=False)\n",
      "      (bn2): BatchNorm2d(256, eps=1e-05, momentum=0.1, affine=True, track_running_stats=True)\n",
      "      (conv3): Conv2d(256, 1024, kernel_size=(1, 1), stride=(1, 1), bias=False)\n",
      "      (bn3): BatchNorm2d(1024, eps=1e-05, momentum=0.1, affine=True, track_running_stats=True)\n",
      "      (relu): ReLU(inplace=True)\n",
      "      (downsample): Sequential(\n",
      "        (0): Conv2d(512, 1024, kernel_size=(1, 1), stride=(2, 2), bias=False)\n",
      "        (1): BatchNorm2d(1024, eps=1e-05, momentum=0.1, affine=True, track_running_stats=True)\n",
      "      )\n",
      "    )\n",
      "    (1): Bottleneck(\n",
      "      (conv1): Conv2d(1024, 256, kernel_size=(1, 1), stride=(1, 1), bias=False)\n",
      "      (bn1): BatchNorm2d(256, eps=1e-05, momentum=0.1, affine=True, track_running_stats=True)\n",
      "      (conv2): Conv2d(256, 256, kernel_size=(3, 3), stride=(1, 1), padding=(1, 1), bias=False)\n",
      "      (bn2): BatchNorm2d(256, eps=1e-05, momentum=0.1, affine=True, track_running_stats=True)\n",
      "      (conv3): Conv2d(256, 1024, kernel_size=(1, 1), stride=(1, 1), bias=False)\n",
      "      (bn3): BatchNorm2d(1024, eps=1e-05, momentum=0.1, affine=True, track_running_stats=True)\n",
      "      (relu): ReLU(inplace=True)\n",
      "    )\n",
      "    (2): Bottleneck(\n",
      "      (conv1): Conv2d(1024, 256, kernel_size=(1, 1), stride=(1, 1), bias=False)\n",
      "      (bn1): BatchNorm2d(256, eps=1e-05, momentum=0.1, affine=True, track_running_stats=True)\n",
      "      (conv2): Conv2d(256, 256, kernel_size=(3, 3), stride=(1, 1), padding=(1, 1), bias=False)\n",
      "      (bn2): BatchNorm2d(256, eps=1e-05, momentum=0.1, affine=True, track_running_stats=True)\n",
      "      (conv3): Conv2d(256, 1024, kernel_size=(1, 1), stride=(1, 1), bias=False)\n",
      "      (bn3): BatchNorm2d(1024, eps=1e-05, momentum=0.1, affine=True, track_running_stats=True)\n",
      "      (relu): ReLU(inplace=True)\n",
      "    )\n",
      "    (3): Bottleneck(\n",
      "      (conv1): Conv2d(1024, 256, kernel_size=(1, 1), stride=(1, 1), bias=False)\n",
      "      (bn1): BatchNorm2d(256, eps=1e-05, momentum=0.1, affine=True, track_running_stats=True)\n",
      "      (conv2): Conv2d(256, 256, kernel_size=(3, 3), stride=(1, 1), padding=(1, 1), bias=False)\n",
      "      (bn2): BatchNorm2d(256, eps=1e-05, momentum=0.1, affine=True, track_running_stats=True)\n",
      "      (conv3): Conv2d(256, 1024, kernel_size=(1, 1), stride=(1, 1), bias=False)\n",
      "      (bn3): BatchNorm2d(1024, eps=1e-05, momentum=0.1, affine=True, track_running_stats=True)\n",
      "      (relu): ReLU(inplace=True)\n",
      "    )\n",
      "    (4): Bottleneck(\n",
      "      (conv1): Conv2d(1024, 256, kernel_size=(1, 1), stride=(1, 1), bias=False)\n",
      "      (bn1): BatchNorm2d(256, eps=1e-05, momentum=0.1, affine=True, track_running_stats=True)\n",
      "      (conv2): Conv2d(256, 256, kernel_size=(3, 3), stride=(1, 1), padding=(1, 1), bias=False)\n",
      "      (bn2): BatchNorm2d(256, eps=1e-05, momentum=0.1, affine=True, track_running_stats=True)\n",
      "      (conv3): Conv2d(256, 1024, kernel_size=(1, 1), stride=(1, 1), bias=False)\n",
      "      (bn3): BatchNorm2d(1024, eps=1e-05, momentum=0.1, affine=True, track_running_stats=True)\n",
      "      (relu): ReLU(inplace=True)\n",
      "    )\n",
      "    (5): Bottleneck(\n",
      "      (conv1): Conv2d(1024, 256, kernel_size=(1, 1), stride=(1, 1), bias=False)\n",
      "      (bn1): BatchNorm2d(256, eps=1e-05, momentum=0.1, affine=True, track_running_stats=True)\n",
      "      (conv2): Conv2d(256, 256, kernel_size=(3, 3), stride=(1, 1), padding=(1, 1), bias=False)\n",
      "      (bn2): BatchNorm2d(256, eps=1e-05, momentum=0.1, affine=True, track_running_stats=True)\n",
      "      (conv3): Conv2d(256, 1024, kernel_size=(1, 1), stride=(1, 1), bias=False)\n",
      "      (bn3): BatchNorm2d(1024, eps=1e-05, momentum=0.1, affine=True, track_running_stats=True)\n",
      "      (relu): ReLU(inplace=True)\n",
      "    )\n",
      "  )\n",
      "  (layer4): Sequential(\n",
      "    (0): Bottleneck(\n",
      "      (conv1): Conv2d(1024, 512, kernel_size=(1, 1), stride=(1, 1), bias=False)\n",
      "      (bn1): BatchNorm2d(512, eps=1e-05, momentum=0.1, affine=True, track_running_stats=True)\n",
      "      (conv2): Conv2d(512, 512, kernel_size=(3, 3), stride=(2, 2), padding=(1, 1), bias=False)\n",
      "      (bn2): BatchNorm2d(512, eps=1e-05, momentum=0.1, affine=True, track_running_stats=True)\n",
      "      (conv3): Conv2d(512, 2048, kernel_size=(1, 1), stride=(1, 1), bias=False)\n",
      "      (bn3): BatchNorm2d(2048, eps=1e-05, momentum=0.1, affine=True, track_running_stats=True)\n",
      "      (relu): ReLU(inplace=True)\n",
      "      (downsample): Sequential(\n",
      "        (0): Conv2d(1024, 2048, kernel_size=(1, 1), stride=(2, 2), bias=False)\n",
      "        (1): BatchNorm2d(2048, eps=1e-05, momentum=0.1, affine=True, track_running_stats=True)\n",
      "      )\n",
      "    )\n",
      "    (1): Bottleneck(\n",
      "      (conv1): Conv2d(2048, 512, kernel_size=(1, 1), stride=(1, 1), bias=False)\n",
      "      (bn1): BatchNorm2d(512, eps=1e-05, momentum=0.1, affine=True, track_running_stats=True)\n",
      "      (conv2): Conv2d(512, 512, kernel_size=(3, 3), stride=(1, 1), padding=(1, 1), bias=False)\n",
      "      (bn2): BatchNorm2d(512, eps=1e-05, momentum=0.1, affine=True, track_running_stats=True)\n",
      "      (conv3): Conv2d(512, 2048, kernel_size=(1, 1), stride=(1, 1), bias=False)\n",
      "      (bn3): BatchNorm2d(2048, eps=1e-05, momentum=0.1, affine=True, track_running_stats=True)\n",
      "      (relu): ReLU(inplace=True)\n",
      "    )\n",
      "    (2): Bottleneck(\n",
      "      (conv1): Conv2d(2048, 512, kernel_size=(1, 1), stride=(1, 1), bias=False)\n",
      "      (bn1): BatchNorm2d(512, eps=1e-05, momentum=0.1, affine=True, track_running_stats=True)\n",
      "      (conv2): Conv2d(512, 512, kernel_size=(3, 3), stride=(1, 1), padding=(1, 1), bias=False)\n",
      "      (bn2): BatchNorm2d(512, eps=1e-05, momentum=0.1, affine=True, track_running_stats=True)\n",
      "      (conv3): Conv2d(512, 2048, kernel_size=(1, 1), stride=(1, 1), bias=False)\n",
      "      (bn3): BatchNorm2d(2048, eps=1e-05, momentum=0.1, affine=True, track_running_stats=True)\n",
      "      (relu): ReLU(inplace=True)\n",
      "    )\n",
      "  )\n",
      "  (avgpool): AdaptiveAvgPool2d(output_size=(1, 1))\n",
      "  (fc): Linear(in_features=2048, out_features=1000, bias=True)\n",
      ")\n"
     ]
    }
   ],
   "source": [
    "device = torch.device(\"cuda\" if torch.cuda.is_available() \n",
    "                                  else \"cpu\")\n",
    "model = models.resnet50(pretrained=True)\n",
    "print(device)\n",
    "print(model)"
   ]
  },
  {
   "cell_type": "markdown",
   "metadata": {
    "id": "3wmMRNwrkoBL"
   },
   "source": [
    "## Define a Loss Function and an optimizer"
   ]
  },
  {
   "cell_type": "code",
   "execution_count": 51,
   "metadata": {
    "colab": {
     "base_uri": "https://localhost:8080/"
    },
    "id": "QK7UbgB0krNu",
    "outputId": "e005b8fa-96bd-49ce-a323-418a0d66d2e4"
   },
   "outputs": [
    {
     "data": {
      "text/plain": [
       "ResNet(\n",
       "  (conv1): Conv2d(3, 64, kernel_size=(7, 7), stride=(2, 2), padding=(3, 3), bias=False)\n",
       "  (bn1): BatchNorm2d(64, eps=1e-05, momentum=0.1, affine=True, track_running_stats=True)\n",
       "  (relu): ReLU(inplace=True)\n",
       "  (maxpool): MaxPool2d(kernel_size=3, stride=2, padding=1, dilation=1, ceil_mode=False)\n",
       "  (layer1): Sequential(\n",
       "    (0): Bottleneck(\n",
       "      (conv1): Conv2d(64, 64, kernel_size=(1, 1), stride=(1, 1), bias=False)\n",
       "      (bn1): BatchNorm2d(64, eps=1e-05, momentum=0.1, affine=True, track_running_stats=True)\n",
       "      (conv2): Conv2d(64, 64, kernel_size=(3, 3), stride=(1, 1), padding=(1, 1), bias=False)\n",
       "      (bn2): BatchNorm2d(64, eps=1e-05, momentum=0.1, affine=True, track_running_stats=True)\n",
       "      (conv3): Conv2d(64, 256, kernel_size=(1, 1), stride=(1, 1), bias=False)\n",
       "      (bn3): BatchNorm2d(256, eps=1e-05, momentum=0.1, affine=True, track_running_stats=True)\n",
       "      (relu): ReLU(inplace=True)\n",
       "      (downsample): Sequential(\n",
       "        (0): Conv2d(64, 256, kernel_size=(1, 1), stride=(1, 1), bias=False)\n",
       "        (1): BatchNorm2d(256, eps=1e-05, momentum=0.1, affine=True, track_running_stats=True)\n",
       "      )\n",
       "    )\n",
       "    (1): Bottleneck(\n",
       "      (conv1): Conv2d(256, 64, kernel_size=(1, 1), stride=(1, 1), bias=False)\n",
       "      (bn1): BatchNorm2d(64, eps=1e-05, momentum=0.1, affine=True, track_running_stats=True)\n",
       "      (conv2): Conv2d(64, 64, kernel_size=(3, 3), stride=(1, 1), padding=(1, 1), bias=False)\n",
       "      (bn2): BatchNorm2d(64, eps=1e-05, momentum=0.1, affine=True, track_running_stats=True)\n",
       "      (conv3): Conv2d(64, 256, kernel_size=(1, 1), stride=(1, 1), bias=False)\n",
       "      (bn3): BatchNorm2d(256, eps=1e-05, momentum=0.1, affine=True, track_running_stats=True)\n",
       "      (relu): ReLU(inplace=True)\n",
       "    )\n",
       "    (2): Bottleneck(\n",
       "      (conv1): Conv2d(256, 64, kernel_size=(1, 1), stride=(1, 1), bias=False)\n",
       "      (bn1): BatchNorm2d(64, eps=1e-05, momentum=0.1, affine=True, track_running_stats=True)\n",
       "      (conv2): Conv2d(64, 64, kernel_size=(3, 3), stride=(1, 1), padding=(1, 1), bias=False)\n",
       "      (bn2): BatchNorm2d(64, eps=1e-05, momentum=0.1, affine=True, track_running_stats=True)\n",
       "      (conv3): Conv2d(64, 256, kernel_size=(1, 1), stride=(1, 1), bias=False)\n",
       "      (bn3): BatchNorm2d(256, eps=1e-05, momentum=0.1, affine=True, track_running_stats=True)\n",
       "      (relu): ReLU(inplace=True)\n",
       "    )\n",
       "  )\n",
       "  (layer2): Sequential(\n",
       "    (0): Bottleneck(\n",
       "      (conv1): Conv2d(256, 128, kernel_size=(1, 1), stride=(1, 1), bias=False)\n",
       "      (bn1): BatchNorm2d(128, eps=1e-05, momentum=0.1, affine=True, track_running_stats=True)\n",
       "      (conv2): Conv2d(128, 128, kernel_size=(3, 3), stride=(2, 2), padding=(1, 1), bias=False)\n",
       "      (bn2): BatchNorm2d(128, eps=1e-05, momentum=0.1, affine=True, track_running_stats=True)\n",
       "      (conv3): Conv2d(128, 512, kernel_size=(1, 1), stride=(1, 1), bias=False)\n",
       "      (bn3): BatchNorm2d(512, eps=1e-05, momentum=0.1, affine=True, track_running_stats=True)\n",
       "      (relu): ReLU(inplace=True)\n",
       "      (downsample): Sequential(\n",
       "        (0): Conv2d(256, 512, kernel_size=(1, 1), stride=(2, 2), bias=False)\n",
       "        (1): BatchNorm2d(512, eps=1e-05, momentum=0.1, affine=True, track_running_stats=True)\n",
       "      )\n",
       "    )\n",
       "    (1): Bottleneck(\n",
       "      (conv1): Conv2d(512, 128, kernel_size=(1, 1), stride=(1, 1), bias=False)\n",
       "      (bn1): BatchNorm2d(128, eps=1e-05, momentum=0.1, affine=True, track_running_stats=True)\n",
       "      (conv2): Conv2d(128, 128, kernel_size=(3, 3), stride=(1, 1), padding=(1, 1), bias=False)\n",
       "      (bn2): BatchNorm2d(128, eps=1e-05, momentum=0.1, affine=True, track_running_stats=True)\n",
       "      (conv3): Conv2d(128, 512, kernel_size=(1, 1), stride=(1, 1), bias=False)\n",
       "      (bn3): BatchNorm2d(512, eps=1e-05, momentum=0.1, affine=True, track_running_stats=True)\n",
       "      (relu): ReLU(inplace=True)\n",
       "    )\n",
       "    (2): Bottleneck(\n",
       "      (conv1): Conv2d(512, 128, kernel_size=(1, 1), stride=(1, 1), bias=False)\n",
       "      (bn1): BatchNorm2d(128, eps=1e-05, momentum=0.1, affine=True, track_running_stats=True)\n",
       "      (conv2): Conv2d(128, 128, kernel_size=(3, 3), stride=(1, 1), padding=(1, 1), bias=False)\n",
       "      (bn2): BatchNorm2d(128, eps=1e-05, momentum=0.1, affine=True, track_running_stats=True)\n",
       "      (conv3): Conv2d(128, 512, kernel_size=(1, 1), stride=(1, 1), bias=False)\n",
       "      (bn3): BatchNorm2d(512, eps=1e-05, momentum=0.1, affine=True, track_running_stats=True)\n",
       "      (relu): ReLU(inplace=True)\n",
       "    )\n",
       "    (3): Bottleneck(\n",
       "      (conv1): Conv2d(512, 128, kernel_size=(1, 1), stride=(1, 1), bias=False)\n",
       "      (bn1): BatchNorm2d(128, eps=1e-05, momentum=0.1, affine=True, track_running_stats=True)\n",
       "      (conv2): Conv2d(128, 128, kernel_size=(3, 3), stride=(1, 1), padding=(1, 1), bias=False)\n",
       "      (bn2): BatchNorm2d(128, eps=1e-05, momentum=0.1, affine=True, track_running_stats=True)\n",
       "      (conv3): Conv2d(128, 512, kernel_size=(1, 1), stride=(1, 1), bias=False)\n",
       "      (bn3): BatchNorm2d(512, eps=1e-05, momentum=0.1, affine=True, track_running_stats=True)\n",
       "      (relu): ReLU(inplace=True)\n",
       "    )\n",
       "  )\n",
       "  (layer3): Sequential(\n",
       "    (0): Bottleneck(\n",
       "      (conv1): Conv2d(512, 256, kernel_size=(1, 1), stride=(1, 1), bias=False)\n",
       "      (bn1): BatchNorm2d(256, eps=1e-05, momentum=0.1, affine=True, track_running_stats=True)\n",
       "      (conv2): Conv2d(256, 256, kernel_size=(3, 3), stride=(2, 2), padding=(1, 1), bias=False)\n",
       "      (bn2): BatchNorm2d(256, eps=1e-05, momentum=0.1, affine=True, track_running_stats=True)\n",
       "      (conv3): Conv2d(256, 1024, kernel_size=(1, 1), stride=(1, 1), bias=False)\n",
       "      (bn3): BatchNorm2d(1024, eps=1e-05, momentum=0.1, affine=True, track_running_stats=True)\n",
       "      (relu): ReLU(inplace=True)\n",
       "      (downsample): Sequential(\n",
       "        (0): Conv2d(512, 1024, kernel_size=(1, 1), stride=(2, 2), bias=False)\n",
       "        (1): BatchNorm2d(1024, eps=1e-05, momentum=0.1, affine=True, track_running_stats=True)\n",
       "      )\n",
       "    )\n",
       "    (1): Bottleneck(\n",
       "      (conv1): Conv2d(1024, 256, kernel_size=(1, 1), stride=(1, 1), bias=False)\n",
       "      (bn1): BatchNorm2d(256, eps=1e-05, momentum=0.1, affine=True, track_running_stats=True)\n",
       "      (conv2): Conv2d(256, 256, kernel_size=(3, 3), stride=(1, 1), padding=(1, 1), bias=False)\n",
       "      (bn2): BatchNorm2d(256, eps=1e-05, momentum=0.1, affine=True, track_running_stats=True)\n",
       "      (conv3): Conv2d(256, 1024, kernel_size=(1, 1), stride=(1, 1), bias=False)\n",
       "      (bn3): BatchNorm2d(1024, eps=1e-05, momentum=0.1, affine=True, track_running_stats=True)\n",
       "      (relu): ReLU(inplace=True)\n",
       "    )\n",
       "    (2): Bottleneck(\n",
       "      (conv1): Conv2d(1024, 256, kernel_size=(1, 1), stride=(1, 1), bias=False)\n",
       "      (bn1): BatchNorm2d(256, eps=1e-05, momentum=0.1, affine=True, track_running_stats=True)\n",
       "      (conv2): Conv2d(256, 256, kernel_size=(3, 3), stride=(1, 1), padding=(1, 1), bias=False)\n",
       "      (bn2): BatchNorm2d(256, eps=1e-05, momentum=0.1, affine=True, track_running_stats=True)\n",
       "      (conv3): Conv2d(256, 1024, kernel_size=(1, 1), stride=(1, 1), bias=False)\n",
       "      (bn3): BatchNorm2d(1024, eps=1e-05, momentum=0.1, affine=True, track_running_stats=True)\n",
       "      (relu): ReLU(inplace=True)\n",
       "    )\n",
       "    (3): Bottleneck(\n",
       "      (conv1): Conv2d(1024, 256, kernel_size=(1, 1), stride=(1, 1), bias=False)\n",
       "      (bn1): BatchNorm2d(256, eps=1e-05, momentum=0.1, affine=True, track_running_stats=True)\n",
       "      (conv2): Conv2d(256, 256, kernel_size=(3, 3), stride=(1, 1), padding=(1, 1), bias=False)\n",
       "      (bn2): BatchNorm2d(256, eps=1e-05, momentum=0.1, affine=True, track_running_stats=True)\n",
       "      (conv3): Conv2d(256, 1024, kernel_size=(1, 1), stride=(1, 1), bias=False)\n",
       "      (bn3): BatchNorm2d(1024, eps=1e-05, momentum=0.1, affine=True, track_running_stats=True)\n",
       "      (relu): ReLU(inplace=True)\n",
       "    )\n",
       "    (4): Bottleneck(\n",
       "      (conv1): Conv2d(1024, 256, kernel_size=(1, 1), stride=(1, 1), bias=False)\n",
       "      (bn1): BatchNorm2d(256, eps=1e-05, momentum=0.1, affine=True, track_running_stats=True)\n",
       "      (conv2): Conv2d(256, 256, kernel_size=(3, 3), stride=(1, 1), padding=(1, 1), bias=False)\n",
       "      (bn2): BatchNorm2d(256, eps=1e-05, momentum=0.1, affine=True, track_running_stats=True)\n",
       "      (conv3): Conv2d(256, 1024, kernel_size=(1, 1), stride=(1, 1), bias=False)\n",
       "      (bn3): BatchNorm2d(1024, eps=1e-05, momentum=0.1, affine=True, track_running_stats=True)\n",
       "      (relu): ReLU(inplace=True)\n",
       "    )\n",
       "    (5): Bottleneck(\n",
       "      (conv1): Conv2d(1024, 256, kernel_size=(1, 1), stride=(1, 1), bias=False)\n",
       "      (bn1): BatchNorm2d(256, eps=1e-05, momentum=0.1, affine=True, track_running_stats=True)\n",
       "      (conv2): Conv2d(256, 256, kernel_size=(3, 3), stride=(1, 1), padding=(1, 1), bias=False)\n",
       "      (bn2): BatchNorm2d(256, eps=1e-05, momentum=0.1, affine=True, track_running_stats=True)\n",
       "      (conv3): Conv2d(256, 1024, kernel_size=(1, 1), stride=(1, 1), bias=False)\n",
       "      (bn3): BatchNorm2d(1024, eps=1e-05, momentum=0.1, affine=True, track_running_stats=True)\n",
       "      (relu): ReLU(inplace=True)\n",
       "    )\n",
       "  )\n",
       "  (layer4): Sequential(\n",
       "    (0): Bottleneck(\n",
       "      (conv1): Conv2d(1024, 512, kernel_size=(1, 1), stride=(1, 1), bias=False)\n",
       "      (bn1): BatchNorm2d(512, eps=1e-05, momentum=0.1, affine=True, track_running_stats=True)\n",
       "      (conv2): Conv2d(512, 512, kernel_size=(3, 3), stride=(2, 2), padding=(1, 1), bias=False)\n",
       "      (bn2): BatchNorm2d(512, eps=1e-05, momentum=0.1, affine=True, track_running_stats=True)\n",
       "      (conv3): Conv2d(512, 2048, kernel_size=(1, 1), stride=(1, 1), bias=False)\n",
       "      (bn3): BatchNorm2d(2048, eps=1e-05, momentum=0.1, affine=True, track_running_stats=True)\n",
       "      (relu): ReLU(inplace=True)\n",
       "      (downsample): Sequential(\n",
       "        (0): Conv2d(1024, 2048, kernel_size=(1, 1), stride=(2, 2), bias=False)\n",
       "        (1): BatchNorm2d(2048, eps=1e-05, momentum=0.1, affine=True, track_running_stats=True)\n",
       "      )\n",
       "    )\n",
       "    (1): Bottleneck(\n",
       "      (conv1): Conv2d(2048, 512, kernel_size=(1, 1), stride=(1, 1), bias=False)\n",
       "      (bn1): BatchNorm2d(512, eps=1e-05, momentum=0.1, affine=True, track_running_stats=True)\n",
       "      (conv2): Conv2d(512, 512, kernel_size=(3, 3), stride=(1, 1), padding=(1, 1), bias=False)\n",
       "      (bn2): BatchNorm2d(512, eps=1e-05, momentum=0.1, affine=True, track_running_stats=True)\n",
       "      (conv3): Conv2d(512, 2048, kernel_size=(1, 1), stride=(1, 1), bias=False)\n",
       "      (bn3): BatchNorm2d(2048, eps=1e-05, momentum=0.1, affine=True, track_running_stats=True)\n",
       "      (relu): ReLU(inplace=True)\n",
       "    )\n",
       "    (2): Bottleneck(\n",
       "      (conv1): Conv2d(2048, 512, kernel_size=(1, 1), stride=(1, 1), bias=False)\n",
       "      (bn1): BatchNorm2d(512, eps=1e-05, momentum=0.1, affine=True, track_running_stats=True)\n",
       "      (conv2): Conv2d(512, 512, kernel_size=(3, 3), stride=(1, 1), padding=(1, 1), bias=False)\n",
       "      (bn2): BatchNorm2d(512, eps=1e-05, momentum=0.1, affine=True, track_running_stats=True)\n",
       "      (conv3): Conv2d(512, 2048, kernel_size=(1, 1), stride=(1, 1), bias=False)\n",
       "      (bn3): BatchNorm2d(2048, eps=1e-05, momentum=0.1, affine=True, track_running_stats=True)\n",
       "      (relu): ReLU(inplace=True)\n",
       "    )\n",
       "  )\n",
       "  (avgpool): AdaptiveAvgPool2d(output_size=(1, 1))\n",
       "  (fc): Sequential(\n",
       "    (0): Linear(in_features=2048, out_features=512, bias=True)\n",
       "    (1): ReLU()\n",
       "    (2): Dropout(p=0.3, inplace=False)\n",
       "    (3): Linear(in_features=512, out_features=10, bias=True)\n",
       "    (4): LogSoftmax(dim=1)\n",
       "  )\n",
       ")"
      ]
     },
     "execution_count": 51,
     "metadata": {},
     "output_type": "execute_result"
    }
   ],
   "source": [
    "from torch import optim\n",
    "for param in model.parameters():\n",
    "    param.requires_grad = False\n",
    "    \n",
    "model.fc = nn.Sequential(nn.Linear(2048, 512),\n",
    "                                 nn.ReLU(),\n",
    "                                 nn.Dropout(0.3),\n",
    "                                 nn.Linear(512, 10),\n",
    "                                 nn.LogSoftmax(dim=1))\n",
    "criterion = nn.NLLLoss()\n",
    "optimizer = optim.Adam(model.fc.parameters(), lr=0.003)\n",
    "model.to(device)"
   ]
  },
  {
   "cell_type": "markdown",
   "metadata": {
    "id": "0aLVv_8BksY3"
   },
   "source": [
    "# Train the network"
   ]
  },
  {
   "cell_type": "code",
   "execution_count": 52,
   "metadata": {
    "id": "vi4W5lInqKRW"
   },
   "outputs": [],
   "source": [
    " torch.cuda.empty_cache()"
   ]
  },
  {
   "cell_type": "code",
   "execution_count": 53,
   "metadata": {
    "colab": {
     "base_uri": "https://localhost:8080/"
    },
    "id": "YhIQYJNIkuO3",
    "outputId": "c4e9aea7-9774-48e2-e8c7-3cc06c6156ae"
   },
   "outputs": [
    {
     "name": "stdout",
     "output_type": "stream",
     "text": [
      "Epoch 1/10.. Train loss: 3.792.. Test loss: 2.457.. Test accuracy: 0.427\n",
      "Epoch 1/10.. Train loss: 1.782.. Test loss: 1.125.. Test accuracy: 0.568\n",
      "Epoch 1/10.. Train loss: 1.221.. Test loss: 1.120.. Test accuracy: 0.483\n",
      "Epoch 1/10.. Train loss: 1.082.. Test loss: 1.018.. Test accuracy: 0.592\n",
      "Epoch 1/10.. Train loss: 1.038.. Test loss: 0.980.. Test accuracy: 0.595\n",
      "Epoch 1/10.. Train loss: 1.014.. Test loss: 0.944.. Test accuracy: 0.630\n",
      "Epoch 1/10.. Train loss: 0.966.. Test loss: 0.990.. Test accuracy: 0.586\n",
      "Epoch 1/10.. Train loss: 0.951.. Test loss: 0.935.. Test accuracy: 0.636\n",
      "Epoch 1/10.. Train loss: 1.014.. Test loss: 0.954.. Test accuracy: 0.601\n",
      "Epoch 2/10.. Train loss: 0.959.. Test loss: 0.907.. Test accuracy: 0.635\n",
      "Epoch 2/10.. Train loss: 0.941.. Test loss: 0.889.. Test accuracy: 0.643\n",
      "Epoch 2/10.. Train loss: 0.928.. Test loss: 0.870.. Test accuracy: 0.651\n",
      "Epoch 2/10.. Train loss: 0.906.. Test loss: 0.893.. Test accuracy: 0.631\n",
      "Epoch 2/10.. Train loss: 0.871.. Test loss: 0.927.. Test accuracy: 0.606\n",
      "Epoch 2/10.. Train loss: 0.922.. Test loss: 0.868.. Test accuracy: 0.639\n",
      "Epoch 2/10.. Train loss: 0.873.. Test loss: 0.871.. Test accuracy: 0.632\n",
      "Epoch 2/10.. Train loss: 0.899.. Test loss: 0.839.. Test accuracy: 0.655\n",
      "Epoch 2/10.. Train loss: 0.911.. Test loss: 0.850.. Test accuracy: 0.659\n",
      "Epoch 3/10.. Train loss: 0.824.. Test loss: 0.851.. Test accuracy: 0.658\n",
      "Epoch 3/10.. Train loss: 0.942.. Test loss: 0.861.. Test accuracy: 0.638\n",
      "Epoch 3/10.. Train loss: 0.890.. Test loss: 0.924.. Test accuracy: 0.619\n",
      "Epoch 3/10.. Train loss: 0.898.. Test loss: 0.893.. Test accuracy: 0.627\n",
      "Epoch 3/10.. Train loss: 0.921.. Test loss: 0.841.. Test accuracy: 0.660\n",
      "Epoch 3/10.. Train loss: 0.872.. Test loss: 0.844.. Test accuracy: 0.656\n",
      "Epoch 3/10.. Train loss: 0.847.. Test loss: 0.825.. Test accuracy: 0.661\n",
      "Epoch 3/10.. Train loss: 0.878.. Test loss: 0.820.. Test accuracy: 0.660\n",
      "Epoch 3/10.. Train loss: 0.874.. Test loss: 0.824.. Test accuracy: 0.653\n",
      "Epoch 4/10.. Train loss: 0.968.. Test loss: 0.873.. Test accuracy: 0.627\n",
      "Epoch 4/10.. Train loss: 0.899.. Test loss: 0.832.. Test accuracy: 0.650\n",
      "Epoch 4/10.. Train loss: 0.860.. Test loss: 0.869.. Test accuracy: 0.615\n",
      "Epoch 4/10.. Train loss: 0.855.. Test loss: 0.852.. Test accuracy: 0.633\n",
      "Epoch 4/10.. Train loss: 0.870.. Test loss: 0.847.. Test accuracy: 0.635\n",
      "Epoch 4/10.. Train loss: 0.850.. Test loss: 0.805.. Test accuracy: 0.656\n",
      "Epoch 4/10.. Train loss: 0.840.. Test loss: 0.824.. Test accuracy: 0.666\n",
      "Epoch 4/10.. Train loss: 0.906.. Test loss: 0.826.. Test accuracy: 0.655\n",
      "Epoch 4/10.. Train loss: 0.868.. Test loss: 0.833.. Test accuracy: 0.646\n",
      "Epoch 5/10.. Train loss: 0.800.. Test loss: 0.857.. Test accuracy: 0.642\n",
      "Epoch 5/10.. Train loss: 0.872.. Test loss: 0.851.. Test accuracy: 0.631\n",
      "Epoch 5/10.. Train loss: 0.899.. Test loss: 0.871.. Test accuracy: 0.625\n",
      "Epoch 5/10.. Train loss: 0.810.. Test loss: 0.839.. Test accuracy: 0.639\n",
      "Epoch 5/10.. Train loss: 0.842.. Test loss: 0.793.. Test accuracy: 0.662\n",
      "Epoch 5/10.. Train loss: 0.862.. Test loss: 0.822.. Test accuracy: 0.660\n",
      "Epoch 5/10.. Train loss: 0.815.. Test loss: 0.796.. Test accuracy: 0.672\n",
      "Epoch 5/10.. Train loss: 0.811.. Test loss: 0.802.. Test accuracy: 0.676\n",
      "Epoch 5/10.. Train loss: 0.869.. Test loss: 0.825.. Test accuracy: 0.658\n",
      "Epoch 5/10.. Train loss: 0.802.. Test loss: 0.853.. Test accuracy: 0.647\n",
      "Epoch 6/10.. Train loss: 0.827.. Test loss: 0.788.. Test accuracy: 0.661\n",
      "Epoch 6/10.. Train loss: 0.813.. Test loss: 0.814.. Test accuracy: 0.648\n",
      "Epoch 6/10.. Train loss: 0.817.. Test loss: 0.777.. Test accuracy: 0.669\n",
      "Epoch 6/10.. Train loss: 0.823.. Test loss: 0.812.. Test accuracy: 0.653\n",
      "Epoch 6/10.. Train loss: 0.798.. Test loss: 0.817.. Test accuracy: 0.647\n",
      "Epoch 6/10.. Train loss: 0.856.. Test loss: 0.799.. Test accuracy: 0.662\n",
      "Epoch 6/10.. Train loss: 0.832.. Test loss: 0.814.. Test accuracy: 0.660\n",
      "Epoch 6/10.. Train loss: 0.781.. Test loss: 0.810.. Test accuracy: 0.653\n",
      "Epoch 6/10.. Train loss: 0.865.. Test loss: 0.838.. Test accuracy: 0.639\n",
      "Epoch 7/10.. Train loss: 0.793.. Test loss: 0.806.. Test accuracy: 0.665\n",
      "Epoch 7/10.. Train loss: 0.867.. Test loss: 0.800.. Test accuracy: 0.656\n",
      "Epoch 7/10.. Train loss: 0.817.. Test loss: 0.774.. Test accuracy: 0.678\n",
      "Epoch 7/10.. Train loss: 0.807.. Test loss: 0.773.. Test accuracy: 0.660\n",
      "Epoch 7/10.. Train loss: 0.767.. Test loss: 0.821.. Test accuracy: 0.656\n",
      "Epoch 7/10.. Train loss: 0.801.. Test loss: 0.769.. Test accuracy: 0.676\n",
      "Epoch 7/10.. Train loss: 0.810.. Test loss: 0.765.. Test accuracy: 0.684\n",
      "Epoch 7/10.. Train loss: 0.797.. Test loss: 0.766.. Test accuracy: 0.669\n",
      "Epoch 7/10.. Train loss: 0.867.. Test loss: 0.790.. Test accuracy: 0.666\n",
      "Epoch 8/10.. Train loss: 0.801.. Test loss: 0.772.. Test accuracy: 0.685\n",
      "Epoch 8/10.. Train loss: 0.810.. Test loss: 0.819.. Test accuracy: 0.654\n",
      "Epoch 8/10.. Train loss: 0.780.. Test loss: 0.757.. Test accuracy: 0.689\n",
      "Epoch 8/10.. Train loss: 0.788.. Test loss: 0.766.. Test accuracy: 0.668\n",
      "Epoch 8/10.. Train loss: 0.795.. Test loss: 0.755.. Test accuracy: 0.679\n",
      "Epoch 8/10.. Train loss: 0.798.. Test loss: 0.773.. Test accuracy: 0.670\n",
      "Epoch 8/10.. Train loss: 0.788.. Test loss: 0.773.. Test accuracy: 0.667\n",
      "Epoch 8/10.. Train loss: 0.802.. Test loss: 0.791.. Test accuracy: 0.657\n",
      "Epoch 8/10.. Train loss: 0.849.. Test loss: 0.798.. Test accuracy: 0.649\n",
      "Epoch 9/10.. Train loss: 0.835.. Test loss: 0.805.. Test accuracy: 0.655\n",
      "Epoch 9/10.. Train loss: 0.866.. Test loss: 0.789.. Test accuracy: 0.674\n",
      "Epoch 9/10.. Train loss: 0.838.. Test loss: 0.795.. Test accuracy: 0.666\n",
      "Epoch 9/10.. Train loss: 0.801.. Test loss: 0.804.. Test accuracy: 0.659\n",
      "Epoch 9/10.. Train loss: 0.790.. Test loss: 0.800.. Test accuracy: 0.658\n",
      "Epoch 9/10.. Train loss: 0.837.. Test loss: 0.767.. Test accuracy: 0.670\n",
      "Epoch 9/10.. Train loss: 0.790.. Test loss: 0.781.. Test accuracy: 0.668\n",
      "Epoch 9/10.. Train loss: 0.789.. Test loss: 0.804.. Test accuracy: 0.647\n",
      "Epoch 9/10.. Train loss: 0.858.. Test loss: 0.793.. Test accuracy: 0.664\n",
      "Epoch 10/10.. Train loss: 0.758.. Test loss: 0.772.. Test accuracy: 0.684\n",
      "Epoch 10/10.. Train loss: 0.777.. Test loss: 0.769.. Test accuracy: 0.672\n",
      "Epoch 10/10.. Train loss: 0.800.. Test loss: 0.783.. Test accuracy: 0.666\n",
      "Epoch 10/10.. Train loss: 0.765.. Test loss: 0.783.. Test accuracy: 0.656\n",
      "Epoch 10/10.. Train loss: 0.809.. Test loss: 0.763.. Test accuracy: 0.674\n",
      "Epoch 10/10.. Train loss: 0.770.. Test loss: 0.770.. Test accuracy: 0.666\n",
      "Epoch 10/10.. Train loss: 0.833.. Test loss: 0.806.. Test accuracy: 0.669\n",
      "Epoch 10/10.. Train loss: 0.830.. Test loss: 0.769.. Test accuracy: 0.668\n",
      "Epoch 10/10.. Train loss: 0.776.. Test loss: 0.765.. Test accuracy: 0.680\n",
      "Epoch 10/10.. Train loss: 0.791.. Test loss: 0.831.. Test accuracy: 0.653\n"
     ]
    }
   ],
   "source": [
    "epochs = 10\n",
    "steps = 0\n",
    "running_loss = 0\n",
    "print_every = 10\n",
    "train_losses, test_losses = [], []\n",
    "for epoch in range(epochs):\n",
    "    for data_out in trainloader:\n",
    "        inputs = data_out[\"image\"]\n",
    "        labels = data_out[\"label\"]\n",
    "        labels = labels.type(torch.LongTensor)\n",
    "        steps += 1\n",
    "        inputs, labels = inputs.to(device), labels.to(device)\n",
    "        optimizer.zero_grad()\n",
    "        logps = model.forward(inputs.float())\n",
    "        loss = criterion(logps, labels)\n",
    "        loss.backward()\n",
    "        optimizer.step()\n",
    "        running_loss += loss.item()\n",
    "        \n",
    "        if steps % print_every == 0:\n",
    "            test_loss = 0\n",
    "            accuracy = 0\n",
    "            model.eval()\n",
    "            with torch.no_grad():\n",
    "                for data_out2 in testloader:\n",
    "                    inputs = data_out2[\"image\"]\n",
    "                    labels = data_out2[\"label\"]\n",
    "                    labels = labels.type(torch.LongTensor)\n",
    "                    inputs, labels = inputs.to(device), labels.to(device)\n",
    "                    logps = model.forward(inputs.float())\n",
    "                    batch_loss = criterion(logps, labels)\n",
    "                    test_loss += batch_loss.item()\n",
    "                    \n",
    "                    ps = torch.exp(logps)\n",
    "                    top_p, top_class = ps.topk(1, dim=1)\n",
    "                    equals = top_class == labels.view(*top_class.shape)\n",
    "                    accuracy +=torch.mean(equals.type(torch.FloatTensor)).item()\n",
    "            train_losses.append(running_loss/len(trainloader))\n",
    "            test_losses.append(test_loss/len(testloader))                    \n",
    "            print(f\"Epoch {epoch+1}/{epochs}.. \"\n",
    "                  f\"Train loss: {running_loss/print_every:.3f}.. \"\n",
    "                  f\"Test loss: {test_loss/len(testloader):.3f}.. \"\n",
    "                  f\"Test accuracy: {accuracy/len(testloader):.3f}\")\n",
    "            running_loss = 0\n",
    "            model.train()\n",
    "torch.save(model, 'furnituremodel.pth')"
   ]
  },
  {
   "cell_type": "code",
   "execution_count": 54,
   "metadata": {
    "colab": {
     "base_uri": "https://localhost:8080/",
     "height": 265
    },
    "id": "A9iRX0JnqZP3",
    "outputId": "cbe55b54-6799-47b9-92b1-7faa21a6d097"
   },
   "outputs": [
    {
     "data": {
      "image/png": "[encoded data removed]",
      "text/plain": [
       "<Figure size 432x288 with 1 Axes>"
      ]
     },
     "metadata": {
      "needs_background": "light"
     },
     "output_type": "display_data"
    }
   ],
   "source": [
    "plt.plot(train_losses, label='Training loss')\n",
    "plt.plot(test_losses, label='Validation loss')\n",
    "plt.legend(frameon=False)\n",
    "plt.show()"
   ]
  },
  {
   "cell_type": "code",
   "execution_count": 55,
   "metadata": {
    "scrolled": true
   },
   "outputs": [
    {
     "name": "stdout",
     "output_type": "stream",
     "text": [
      "Epoch 1/10.. Train loss: 0.834.. Test loss: 0.780.. Test accuracy: 0.664\n",
      "Epoch 1/10.. Train loss: 0.846.. Test loss: 0.771.. Test accuracy: 0.667\n",
      "Epoch 1/10.. Train loss: 0.739.. Test loss: 0.800.. Test accuracy: 0.681\n",
      "Epoch 1/10.. Train loss: 0.803.. Test loss: 0.741.. Test accuracy: 0.696\n",
      "Epoch 1/10.. Train loss: 0.772.. Test loss: 0.760.. Test accuracy: 0.666\n",
      "Epoch 1/10.. Train loss: 0.742.. Test loss: 0.752.. Test accuracy: 0.669\n",
      "Epoch 1/10.. Train loss: 0.764.. Test loss: 0.737.. Test accuracy: 0.687\n",
      "Epoch 1/10.. Train loss: 0.744.. Test loss: 0.744.. Test accuracy: 0.687\n",
      "Epoch 1/10.. Train loss: 0.762.. Test loss: 0.753.. Test accuracy: 0.674\n",
      "Epoch 2/10.. Train loss: 0.752.. Test loss: 0.747.. Test accuracy: 0.681\n",
      "Epoch 2/10.. Train loss: 0.750.. Test loss: 0.747.. Test accuracy: 0.694\n",
      "Epoch 2/10.. Train loss: 0.757.. Test loss: 0.766.. Test accuracy: 0.682\n",
      "Epoch 2/10.. Train loss: 0.734.. Test loss: 0.749.. Test accuracy: 0.678\n",
      "Epoch 2/10.. Train loss: 0.765.. Test loss: 0.760.. Test accuracy: 0.682\n",
      "Epoch 2/10.. Train loss: 0.773.. Test loss: 0.740.. Test accuracy: 0.693\n",
      "Epoch 2/10.. Train loss: 0.810.. Test loss: 0.728.. Test accuracy: 0.692\n",
      "Epoch 2/10.. Train loss: 0.745.. Test loss: 0.740.. Test accuracy: 0.683\n",
      "Epoch 2/10.. Train loss: 0.751.. Test loss: 0.763.. Test accuracy: 0.657\n",
      "Epoch 3/10.. Train loss: 0.759.. Test loss: 0.770.. Test accuracy: 0.669\n",
      "Epoch 3/10.. Train loss: 0.800.. Test loss: 0.771.. Test accuracy: 0.683\n",
      "Epoch 3/10.. Train loss: 0.768.. Test loss: 0.792.. Test accuracy: 0.653\n",
      "Epoch 3/10.. Train loss: 0.768.. Test loss: 0.784.. Test accuracy: 0.664\n",
      "Epoch 3/10.. Train loss: 0.808.. Test loss: 0.754.. Test accuracy: 0.680\n",
      "Epoch 3/10.. Train loss: 0.796.. Test loss: 0.750.. Test accuracy: 0.674\n",
      "Epoch 3/10.. Train loss: 0.757.. Test loss: 0.835.. Test accuracy: 0.619\n",
      "Epoch 3/10.. Train loss: 0.754.. Test loss: 0.754.. Test accuracy: 0.689\n",
      "Epoch 3/10.. Train loss: 0.777.. Test loss: 0.761.. Test accuracy: 0.666\n",
      "Epoch 4/10.. Train loss: 0.752.. Test loss: 0.738.. Test accuracy: 0.685\n",
      "Epoch 4/10.. Train loss: 0.769.. Test loss: 0.739.. Test accuracy: 0.688\n",
      "Epoch 4/10.. Train loss: 0.749.. Test loss: 0.758.. Test accuracy: 0.681\n",
      "Epoch 4/10.. Train loss: 0.765.. Test loss: 0.748.. Test accuracy: 0.676\n",
      "Epoch 4/10.. Train loss: 0.761.. Test loss: 0.794.. Test accuracy: 0.652\n",
      "Epoch 4/10.. Train loss: 0.848.. Test loss: 0.793.. Test accuracy: 0.659\n",
      "Epoch 4/10.. Train loss: 0.800.. Test loss: 0.762.. Test accuracy: 0.667\n",
      "Epoch 4/10.. Train loss: 0.772.. Test loss: 0.785.. Test accuracy: 0.648\n",
      "Epoch 4/10.. Train loss: 0.742.. Test loss: 0.753.. Test accuracy: 0.691\n",
      "Epoch 5/10.. Train loss: 0.814.. Test loss: 0.787.. Test accuracy: 0.663\n",
      "Epoch 5/10.. Train loss: 0.760.. Test loss: 0.753.. Test accuracy: 0.687\n",
      "Epoch 5/10.. Train loss: 0.747.. Test loss: 0.763.. Test accuracy: 0.680\n",
      "Epoch 5/10.. Train loss: 0.738.. Test loss: 0.736.. Test accuracy: 0.685\n",
      "Epoch 5/10.. Train loss: 0.777.. Test loss: 0.752.. Test accuracy: 0.675\n",
      "Epoch 5/10.. Train loss: 0.780.. Test loss: 0.746.. Test accuracy: 0.674\n",
      "Epoch 5/10.. Train loss: 0.790.. Test loss: 0.752.. Test accuracy: 0.680\n",
      "Epoch 5/10.. Train loss: 0.738.. Test loss: 0.759.. Test accuracy: 0.677\n",
      "Epoch 5/10.. Train loss: 0.803.. Test loss: 0.763.. Test accuracy: 0.683\n",
      "Epoch 5/10.. Train loss: 0.813.. Test loss: 0.765.. Test accuracy: 0.683\n",
      "Epoch 6/10.. Train loss: 0.791.. Test loss: 0.779.. Test accuracy: 0.667\n",
      "Epoch 6/10.. Train loss: 0.747.. Test loss: 0.739.. Test accuracy: 0.686\n",
      "Epoch 6/10.. Train loss: 0.808.. Test loss: 0.788.. Test accuracy: 0.669\n",
      "Epoch 6/10.. Train loss: 0.759.. Test loss: 0.749.. Test accuracy: 0.693\n",
      "Epoch 6/10.. Train loss: 0.799.. Test loss: 0.754.. Test accuracy: 0.690\n",
      "Epoch 6/10.. Train loss: 0.807.. Test loss: 0.746.. Test accuracy: 0.684\n",
      "Epoch 6/10.. Train loss: 0.737.. Test loss: 0.740.. Test accuracy: 0.683\n",
      "Epoch 6/10.. Train loss: 0.764.. Test loss: 0.749.. Test accuracy: 0.681\n",
      "Epoch 6/10.. Train loss: 0.736.. Test loss: 0.752.. Test accuracy: 0.693\n",
      "Epoch 7/10.. Train loss: 0.736.. Test loss: 0.794.. Test accuracy: 0.679\n",
      "Epoch 7/10.. Train loss: 0.748.. Test loss: 0.742.. Test accuracy: 0.698\n",
      "Epoch 7/10.. Train loss: 0.750.. Test loss: 0.781.. Test accuracy: 0.669\n",
      "Epoch 7/10.. Train loss: 0.715.. Test loss: 0.760.. Test accuracy: 0.677\n",
      "Epoch 7/10.. Train loss: 0.790.. Test loss: 0.747.. Test accuracy: 0.679\n",
      "Epoch 7/10.. Train loss: 0.788.. Test loss: 0.749.. Test accuracy: 0.696\n",
      "Epoch 7/10.. Train loss: 0.794.. Test loss: 0.751.. Test accuracy: 0.685\n",
      "Epoch 7/10.. Train loss: 0.763.. Test loss: 0.787.. Test accuracy: 0.668\n",
      "Epoch 7/10.. Train loss: 0.789.. Test loss: 0.773.. Test accuracy: 0.664\n",
      "Epoch 8/10.. Train loss: 0.782.. Test loss: 0.737.. Test accuracy: 0.696\n",
      "Epoch 8/10.. Train loss: 0.730.. Test loss: 0.757.. Test accuracy: 0.668\n",
      "Epoch 8/10.. Train loss: 0.765.. Test loss: 0.759.. Test accuracy: 0.678\n",
      "Epoch 8/10.. Train loss: 0.739.. Test loss: 0.754.. Test accuracy: 0.667\n",
      "Epoch 8/10.. Train loss: 0.781.. Test loss: 0.751.. Test accuracy: 0.676\n",
      "Epoch 8/10.. Train loss: 0.726.. Test loss: 0.768.. Test accuracy: 0.657\n",
      "Epoch 8/10.. Train loss: 0.784.. Test loss: 0.744.. Test accuracy: 0.679\n",
      "Epoch 8/10.. Train loss: 0.759.. Test loss: 0.780.. Test accuracy: 0.647\n",
      "Epoch 8/10.. Train loss: 0.744.. Test loss: 0.748.. Test accuracy: 0.670\n",
      "Epoch 9/10.. Train loss: 0.775.. Test loss: 0.760.. Test accuracy: 0.688\n",
      "Epoch 9/10.. Train loss: 0.820.. Test loss: 0.798.. Test accuracy: 0.672\n",
      "Epoch 9/10.. Train loss: 0.820.. Test loss: 0.753.. Test accuracy: 0.683\n",
      "Epoch 9/10.. Train loss: 0.796.. Test loss: 0.743.. Test accuracy: 0.677\n",
      "Epoch 9/10.. Train loss: 0.773.. Test loss: 0.781.. Test accuracy: 0.682\n",
      "Epoch 9/10.. Train loss: 0.737.. Test loss: 0.748.. Test accuracy: 0.693\n",
      "Epoch 9/10.. Train loss: 0.764.. Test loss: 0.768.. Test accuracy: 0.681\n",
      "Epoch 9/10.. Train loss: 0.779.. Test loss: 0.749.. Test accuracy: 0.687\n",
      "Epoch 9/10.. Train loss: 0.763.. Test loss: 0.764.. Test accuracy: 0.652\n",
      "Epoch 10/10.. Train loss: 0.746.. Test loss: 0.763.. Test accuracy: 0.683\n",
      "Epoch 10/10.. Train loss: 0.758.. Test loss: 0.746.. Test accuracy: 0.689\n",
      "Epoch 10/10.. Train loss: 0.757.. Test loss: 0.764.. Test accuracy: 0.687\n",
      "Epoch 10/10.. Train loss: 0.843.. Test loss: 0.767.. Test accuracy: 0.661\n",
      "Epoch 10/10.. Train loss: 0.783.. Test loss: 0.757.. Test accuracy: 0.683\n",
      "Epoch 10/10.. Train loss: 0.820.. Test loss: 0.752.. Test accuracy: 0.682\n",
      "Epoch 10/10.. Train loss: 0.799.. Test loss: 0.744.. Test accuracy: 0.692\n",
      "Epoch 10/10.. Train loss: 0.771.. Test loss: 0.730.. Test accuracy: 0.694\n",
      "Epoch 10/10.. Train loss: 0.794.. Test loss: 0.766.. Test accuracy: 0.657\n",
      "Epoch 10/10.. Train loss: 0.779.. Test loss: 0.750.. Test accuracy: 0.683\n"
     ]
    }
   ],
   "source": [
    "epochs = 10\n",
    "steps = 0\n",
    "running_loss = 0\n",
    "print_every = 10\n",
    "train_losses, test_losses = [], []\n",
    "for epoch in range(epochs):\n",
    "    for data_out in trainloader:\n",
    "        inputs = data_out[\"image\"]\n",
    "        labels = data_out[\"label\"]\n",
    "        labels = labels.type(torch.LongTensor)\n",
    "        steps += 1\n",
    "        inputs, labels = inputs.to(device), labels.to(device)\n",
    "        optimizer.zero_grad()\n",
    "        logps = model.forward(inputs.float())\n",
    "        loss = criterion(logps, labels)\n",
    "        loss.backward()\n",
    "        optimizer.step()\n",
    "        running_loss += loss.item()\n",
    "        \n",
    "        if steps % print_every == 0:\n",
    "            test_loss = 0\n",
    "            accuracy = 0\n",
    "            model.eval()\n",
    "            with torch.no_grad():\n",
    "                for data_out2 in testloader:\n",
    "                    inputs = data_out2[\"image\"]\n",
    "                    labels = data_out2[\"label\"]\n",
    "                    labels = labels.type(torch.LongTensor)\n",
    "                    inputs, labels = inputs.to(device), labels.to(device)\n",
    "                    logps = model.forward(inputs.float())\n",
    "                    batch_loss = criterion(logps, labels)\n",
    "                    test_loss += batch_loss.item()\n",
    "                    \n",
    "                    ps = torch.exp(logps)\n",
    "                    top_p, top_class = ps.topk(1, dim=1)\n",
    "                    equals = top_class == labels.view(*top_class.shape)\n",
    "                    accuracy +=torch.mean(equals.type(torch.FloatTensor)).item()\n",
    "            train_losses.append(running_loss/len(trainloader))\n",
    "            test_losses.append(test_loss/len(testloader))                    \n",
    "            print(f\"Epoch {epoch+1}/{epochs}.. \"\n",
    "                  f\"Train loss: {running_loss/print_every:.3f}.. \"\n",
    "                  f\"Test loss: {test_loss/len(testloader):.3f}.. \"\n",
    "                  f\"Test accuracy: {accuracy/len(testloader):.3f}\")\n",
    "            running_loss = 0\n",
    "            model.train()\n",
    "torch.save(model, 'furnituremodel.pth')"
   ]
  },
  {
   "cell_type": "code",
   "execution_count": 56,
   "metadata": {},
   "outputs": [
    {
     "data": {
      "image/png": "[encoded data removed]",
      "text/plain": [
       "<Figure size 432x288 with 1 Axes>"
      ]
     },
     "metadata": {
      "needs_background": "light"
     },
     "output_type": "display_data"
    }
   ],
   "source": [
    "plt.title(\"ResNet50 - 10 Epochs - Dropout(0.3) - Image augmentation - Final test accuracy: 0.652\")\n",
    "plt.ylabel(\"Loss\")\n",
    "plt.plot(train_losses, label='Training loss')\n",
    "plt.plot(test_losses, label='Validation loss')\n",
    "plt.legend(frameon=False)\n",
    "plt.show()"
   ]
  },
  {
   "cell_type": "code",
   "execution_count": 58,
   "metadata": {},
   "outputs": [],
   "source": [
    "from sklearn.metrics import confusion_matrix\n",
    "import seaborn as sn\n",
    "import pandas as pd"
   ]
  },
  {
   "cell_type": "code",
   "execution_count": 62,
   "metadata": {},
   "outputs": [
    {
     "name": "stdout",
     "output_type": "stream",
     "text": [
      "['Other', 'Bed / bedroom item', 'Table / chair', 'Sofa / living room item']\n"
     ]
    },
    {
     "data": {
      "image/png": "[encoded data removed]",
      "text/plain": [
       "<Figure size 864x504 with 2 Axes>"
      ]
     },
     "metadata": {
      "needs_background": "light"
     },
     "output_type": "display_data"
    }
   ],
   "source": [
    "y_pred = []\n",
    "y_true = []\n",
    "# iterate over test data\n",
    "for data_out in testloader:\n",
    "        inputs = data_out[\"image\"]\n",
    "        labels = data_out[\"label\"]\n",
    "        labels = labels.type(torch.LongTensor)\n",
    "        inputs, labels = inputs.to(device), labels.to(device)\n",
    "        logps = model.forward(inputs.float())\n",
    "        batch_loss = criterion(logps, labels)\n",
    "        test_loss += batch_loss.item()\n",
    "\n",
    "        ps = torch.exp(logps)\n",
    "        top_p, top_class = ps.topk(1, dim=1)\n",
    "        \n",
    "        y_pred.extend(top_class.cpu().numpy())\n",
    "        y_true.extend(labels.cpu().numpy())\n",
    "classes = ['Other', 'Bed / bedroom item', 'Table / chair', 'Sofa / living room item']\n",
    "print(classes)\n",
    "cf_matrix = confusion_matrix(y_true, y_pred)\n",
    "df_cm = pd.DataFrame(cf_matrix/np.sum(cf_matrix) *10, index = [i for i in classes],\n",
    "                     columns = [i for i in classes])\n",
    "plt.figure(figsize = (12,7))\n",
    "sn.heatmap(df_cm, annot=True)\n",
    "plt.savefig('output.png')\n"
   ]
  },
  {
   "cell_type": "code",
   "execution_count": null,
   "metadata": {},
   "outputs": [],
   "source": []
  }
 ],
 "metadata": {
  "accelerator": "GPU",
  "colab": {
   "collapsed_sections": [],
   "name": "FinalProject.ipynb",
   "provenance": []
  },
  "kernelspec": {
   "display_name": "Python 3",
   "language": "python",
   "name": "python3"
  },
  "language_info": {
   "codemirror_mode": {
    "name": "ipython",
    "version": 3
   },
   "file_extension": ".py",
   "mimetype": "text/x-python",
   "name": "python",
   "nbconvert_exporter": "python",
   "pygments_lexer": "ipython3",
   "version": "3.8.5"
  }
 },
 "nbformat": 4,
 "nbformat_minor": 1
}
